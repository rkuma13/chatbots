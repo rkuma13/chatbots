{
  "nbformat": 4,
  "nbformat_minor": 0,
  "metadata": {
    "colab": {
      "provenance": []
    },
    "kernelspec": {
      "name": "python3",
      "display_name": "Python 3"
    },
    "language_info": {
      "name": "python"
    },
    "accelerator": "GPU",
    "gpuClass": "standard"
  },
  "cells": [
    {
      "cell_type": "code",
      "execution_count": null,
      "metadata": {
        "colab": {
          "base_uri": "https://localhost:8080/"
        },
        "id": "TMI1be2pX0b4",
        "outputId": "75f6338c-8a21-48c6-af45-9a26c0ddec7f"
      },
      "outputs": [
        {
          "output_type": "stream",
          "name": "stdout",
          "text": [
            "Fri Jul  1 08:27:13 2022       \n",
            "+-----------------------------------------------------------------------------+\n",
            "| NVIDIA-SMI 460.32.03    Driver Version: 460.32.03    CUDA Version: 11.2     |\n",
            "|-------------------------------+----------------------+----------------------+\n",
            "| GPU  Name        Persistence-M| Bus-Id        Disp.A | Volatile Uncorr. ECC |\n",
            "| Fan  Temp  Perf  Pwr:Usage/Cap|         Memory-Usage | GPU-Util  Compute M. |\n",
            "|                               |                      |               MIG M. |\n",
            "|===============================+======================+======================|\n",
            "|   0  Tesla T4            Off  | 00000000:00:04.0 Off |                    0 |\n",
            "| N/A   57C    P0    29W /  70W |    432MiB / 15109MiB |      0%      Default |\n",
            "|                               |                      |                  N/A |\n",
            "+-------------------------------+----------------------+----------------------+\n",
            "                                                                               \n",
            "+-----------------------------------------------------------------------------+\n",
            "| Processes:                                                                  |\n",
            "|  GPU   GI   CI        PID   Type   Process name                  GPU Memory |\n",
            "|        ID   ID                                                   Usage      |\n",
            "|=============================================================================|\n",
            "+-----------------------------------------------------------------------------+\n"
          ]
        }
      ],
      "source": [
        "!nvidia-smi"
      ]
    },
    {
      "cell_type": "code",
      "source": [
        "import os\n",
        "os.chdir('/content/drive/MyDrive/My Community session/Projects')\n",
        "os.getcwd()"
      ],
      "metadata": {
        "id": "HPjs5u0HYk_W",
        "colab": {
          "base_uri": "https://localhost:8080/",
          "height": 35
        },
        "outputId": "cfb71656-0149-4789-a80e-d0c279ad3fc3"
      },
      "execution_count": null,
      "outputs": [
        {
          "output_type": "execute_result",
          "data": {
            "text/plain": [
              "'/content/drive/MyDrive/My Community session/Projects'"
            ],
            "application/vnd.google.colaboratory.intrinsic+json": {
              "type": "string"
            }
          },
          "metadata": {},
          "execution_count": 90
        }
      ]
    },
    {
      "cell_type": "code",
      "source": [
        "data_path = \"/content/drive/MyDrive/My Community session/data/job_intents.json\""
      ],
      "metadata": {
        "id": "-t_xGisfZkMM"
      },
      "execution_count": null,
      "outputs": []
    },
    {
      "cell_type": "code",
      "source": [
        "import nltk\n",
        "nltk.download('punkt')\n",
        "nltk.download('wordnet')\n",
        "nltk.download('omw-1.4')\n",
        "from nltk.stem import WordNetLemmatizer\n",
        "import tensorflow as tf\n",
        "import json\n",
        "import pickle\n",
        "import numpy as np\n",
        "from tensorflow.keras.models import Sequential\n",
        "from tensorflow.keras.layers import Dense, Activation, Dropout\n",
        "from tensorflow.keras.optimizers import SGD\n",
        "import random\n",
        "import pandas as pd\n",
        "import matplotlib.pyplot as plt"
      ],
      "metadata": {
        "colab": {
          "base_uri": "https://localhost:8080/"
        },
        "id": "cLKTu1fIZqoD",
        "outputId": "004cfb92-e021-472f-f02f-0e6843109c0e"
      },
      "execution_count": null,
      "outputs": [
        {
          "output_type": "stream",
          "name": "stderr",
          "text": [
            "[nltk_data] Downloading package punkt to /root/nltk_data...\n",
            "[nltk_data]   Package punkt is already up-to-date!\n",
            "[nltk_data] Downloading package wordnet to /root/nltk_data...\n",
            "[nltk_data]   Package wordnet is already up-to-date!\n",
            "[nltk_data] Downloading package omw-1.4 to /root/nltk_data...\n",
            "[nltk_data]   Package omw-1.4 is already up-to-date!\n"
          ]
        }
      ]
    },
    {
      "cell_type": "markdown",
      "source": [
        "# Text Preprocessing"
      ],
      "metadata": {
        "id": "X6J9NVQa2q3x"
      }
    },
    {
      "cell_type": "code",
      "source": [
        "words=[]\n",
        "classes = []\n",
        "documents = []\n",
        "ignore_words = ['?', '!']\n",
        "\n",
        "data_file = open(data_path, encoding='utf-8').read()\n",
        "intents = json.loads(data_file)"
      ],
      "metadata": {
        "id": "ZVNoXzI9aaOU"
      },
      "execution_count": null,
      "outputs": []
    },
    {
      "cell_type": "code",
      "source": [
        "intents"
      ],
      "metadata": {
        "colab": {
          "base_uri": "https://localhost:8080/"
        },
        "id": "MfkRlSiHatHj",
        "outputId": "a1918a06-8aa0-485d-96cb-b811176d0e31"
      },
      "execution_count": null,
      "outputs": [
        {
          "output_type": "execute_result",
          "data": {
            "text/plain": [
              "{'intents': [{'patterns': ['Hi there',\n",
              "    'How are you',\n",
              "    'Is anyone there?',\n",
              "    'Hey',\n",
              "    'Hola',\n",
              "    'Hello',\n",
              "    'Good day',\n",
              "    'Hey',\n",
              "    'Ekse',\n",
              "    'Hi'],\n",
              "   'responses': ['Hi stranger',\n",
              "    'Yebo yes, how can I help',\n",
              "    'Ey watsupp',\n",
              "    'Ekse Hoezit',\n",
              "    'Hola',\n",
              "    'Hey dude',\n",
              "    'You again'],\n",
              "   'tag': 'greeting'},\n",
              "  {'patterns': ['Bye', 'See you later', 'Goodbye', 'Ok bye', 'Bye Bye'],\n",
              "   'responses': ['See you!',\n",
              "    'Have a nice day',\n",
              "    'Sure Bye',\n",
              "    'Later dude',\n",
              "    'Sayoonara',\n",
              "    'Peace out',\n",
              "    'Sure dude',\n",
              "    'Ciao'],\n",
              "   'tag': 'goodbye'},\n",
              "  {'patterns': ['Thanks',\n",
              "    'Thank you',\n",
              "    \"That's helpful\",\n",
              "    'Awesome, thanks',\n",
              "    'Thanks for helping me'],\n",
              "   'responses': ['Happy to help!',\n",
              "    'Any time!',\n",
              "    'My pleasure',\n",
              "    'You are welcome',\n",
              "    'Sure dude'],\n",
              "   'tag': 'thanks'},\n",
              "  {'patterns': [],\n",
              "   'responses': [\"Sorry, can't understand you\",\n",
              "    'Please give me more info',\n",
              "    'Not sure I understand',\n",
              "    'I am still here dude'],\n",
              "   'tag': 'noanswer'},\n",
              "  {'patterns': ['What is your name',\n",
              "    'Whats your name',\n",
              "    'Tell me your name',\n",
              "    'Who are you',\n",
              "    'Ungubani',\n",
              "    'Tell me about yourself',\n",
              "    'You are'],\n",
              "   'responses': ['I am Karabo',\n",
              "    'My name is Karabo',\n",
              "    'You can call me KB for short',\n",
              "    'I am Karabo, my friends call me KB',\n",
              "    'Karabo is my name'],\n",
              "   'tag': 'name'},\n",
              "  {'patterns': ['What do you do',\n",
              "    'How can you help',\n",
              "    'What do you know',\n",
              "    'What is your purpose',\n",
              "    'How can you help'],\n",
              "   'responses': ['I can tell you about South Africa',\n",
              "    'I can give you interesting facts about South Africa'],\n",
              "   'tag': 'options'},\n",
              "  {'patterns': ['South Africa',\n",
              "    'What can you tell me about SA',\n",
              "    'SA',\n",
              "    'Tell me about SA',\n",
              "    'What about SA',\n",
              "    'What do you know about SA',\n",
              "    'Tell me more about SA',\n",
              "    'What can you tell me about South Africa',\n",
              "    'Tell me about South Africa',\n",
              "    'What about South Africa',\n",
              "    'What do you know about South Africa',\n",
              "    'Tell me more about South Africa'],\n",
              "   'responses': ['South Africa is the southern most country in Africa, it has a population of more than 59million people and covers an area of 1221 037m2. South Africa has 11 official languages. The currency used in ZAR our South African Rand which trades at about 15ZAR per 1USD.'],\n",
              "   'tag': 'south_africa_info'},\n",
              "  {'patterns': ['South Africa Facts',\n",
              "    'SA Facts',\n",
              "    'Give me some facts about SA',\n",
              "    'Give me some facts about South Africa',\n",
              "    'SA Facts',\n",
              "    'SA interesting facts',\n",
              "    'South Africa facts',\n",
              "    'South Africa interesting facts',\n",
              "    'Tell me something interesting'],\n",
              "   'responses': ['South Africa is now the only country in the world to have hosted the Soccer, Cricket and Rugby World Cup!',\n",
              "    'Table Mountain in Cape Town is believed to be one of the oldest mountains in the world and one of the planet’s 12 main energy centres, radiating magnetic, electric or spiritual energy.',\n",
              "    'The Cape Floral Kingdom is one of the world’s six floral kingdoms – and the only one which is wholly contained within a single country.',\n",
              "    'Some countries have deserts; some have subtropical forests, right? South Africa has: deserts, wetlands, grasslands, bush, subtropical forests, mountains and escarpments.',\n",
              "    'South Africa’s drinking water is rated 3rd best in the world for being safe and ready to drink.',\n",
              "    'Water is not all there is to drink in this thirsty country! South Africa’s Cape Winelands have around 560 wineries and 4 400 primary producers. Included in the Cape Winelands region is Route 62, considered the longest wine route in the world. That alone is good reason to visit South Africa if you haven’t yet been!',\n",
              "    'What about beer? South African brewery SABMiller ranks – by volume – as the largest brewing company in the world. Saffers love their beer…but the real reason the brewery is so big? SABMiller also supplies up to 50% of China’s beer.',\n",
              "    'South Africa is the only country in the entire world that has voluntarily abandoned its nuclear weapons programme.',\n",
              "    'The world’s largest themed resort hotel in the world – The Palace of the Lost City – is found in South Africa. Surrounding the Palace is a 25 hectare manmade botanical jungle with almost 2 million plants, trees and shrubs.',\n",
              "    'South Africa is extremely rich in mining and minerals and considered the world’s leader with nearly 90% of all the platinum metals on earth and around 41% of all the world’s Gold!',\n",
              "    'South Africa is home to the oldest meteor scar in the world – the Vredefort Dome in a town called Parys. The site is a UNESCO World Heritage Site.',\n",
              "    'The South African Rovos Rail is considered the most luxurious train in the world.',\n",
              "    'South Africa is home to the highest commercial bungi jump in the world at 710 feet.',\n",
              "    'General Motors South Africa is the only place outside of the USA to build the Hummer H3!',\n",
              "    'Despite the country’s status as a democratic republic, the Province of KwaZulu-Natal has a monarchy, specially provided for by the Constitution. Goodwill Zwelithini kaBhekuzulu is the King of the Zulu Nation, has 27 kids and 6 wives and lives, literally, like a King!',\n",
              "    'There are more than 2000 shipwrecks off the South African coast, most dating back at least 500 years.',\n",
              "    'The oldest remains of modern humans were found in South Africa and are well over 160,000 years old.',\n",
              "    'The Karoo region in the Western Cape is home to some of the best fossils of early dinosaurs. In fact, it is estimated that some 80% of the mammalian fossils found to date were found in the Karoo.',\n",
              "    'SA has three capital cities: Pretoria is the Executive Capital, Cape Town the Legislative Capital and Bloemfontein the judicial Capital.',\n",
              "    'Can you think of any other place in the world where two Nobel Peace Prize winners lived on the same street? Both Nelson Mandela and Archbishop Desmond Tutu had houses on Vilakazi Street in Soweto'],\n",
              "   'tag': 'south_africa_facts'}]}"
            ]
          },
          "metadata": {},
          "execution_count": 94
        }
      ]
    },
    {
      "cell_type": "code",
      "source": [
        "for intent in intents['intents']:\n",
        "  print(intent)"
      ],
      "metadata": {
        "colab": {
          "base_uri": "https://localhost:8080/"
        },
        "id": "LDFkBK6Mauir",
        "outputId": "ebabc686-1596-44c1-c492-88d9d87ff8f5"
      },
      "execution_count": null,
      "outputs": [
        {
          "output_type": "stream",
          "name": "stdout",
          "text": [
            "{'tag': 'greeting', 'patterns': ['Hi there', 'How are you', 'Is anyone there?', 'Hey', 'Hola', 'Hello', 'Good day', 'Hey', 'Ekse', 'Hi'], 'responses': ['Hi stranger', 'Yebo yes, how can I help', 'Ey watsupp', 'Ekse Hoezit', 'Hola', 'Hey dude', 'You again']}\n",
            "{'tag': 'goodbye', 'patterns': ['Bye', 'See you later', 'Goodbye', 'Ok bye', 'Bye Bye'], 'responses': ['See you!', 'Have a nice day', 'Sure Bye', 'Later dude', 'Sayoonara', 'Peace out', 'Sure dude', 'Ciao']}\n",
            "{'tag': 'thanks', 'patterns': ['Thanks', 'Thank you', \"That's helpful\", 'Awesome, thanks', 'Thanks for helping me'], 'responses': ['Happy to help!', 'Any time!', 'My pleasure', 'You are welcome', 'Sure dude']}\n",
            "{'tag': 'noanswer', 'patterns': [], 'responses': [\"Sorry, can't understand you\", 'Please give me more info', 'Not sure I understand', 'I am still here dude']}\n",
            "{'tag': 'name', 'patterns': ['What is your name', 'Whats your name', 'Tell me your name', 'Who are you', 'Ungubani', 'Tell me about yourself', 'You are'], 'responses': ['I am Karabo', 'My name is Karabo', 'You can call me KB for short', 'I am Karabo, my friends call me KB', 'Karabo is my name']}\n",
            "{'tag': 'options', 'patterns': ['What do you do', 'How can you help', 'What do you know', 'What is your purpose', 'How can you help'], 'responses': ['I can tell you about South Africa', 'I can give you interesting facts about South Africa']}\n",
            "{'tag': 'south_africa_info', 'patterns': ['South Africa', 'What can you tell me about SA', 'SA', 'Tell me about SA', 'What about SA', 'What do you know about SA', 'Tell me more about SA', 'What can you tell me about South Africa', 'Tell me about South Africa', 'What about South Africa', 'What do you know about South Africa', 'Tell me more about South Africa'], 'responses': ['South Africa is the southern most country in Africa, it has a population of more than 59million people and covers an area of 1221 037m2. South Africa has 11 official languages. The currency used in ZAR our South African Rand which trades at about 15ZAR per 1USD.']}\n",
            "{'tag': 'south_africa_facts', 'patterns': ['South Africa Facts', 'SA Facts', 'Give me some facts about SA', 'Give me some facts about South Africa', 'SA Facts', 'SA interesting facts', 'South Africa facts', 'South Africa interesting facts', 'Tell me something interesting'], 'responses': ['South Africa is now the only country in the world to have hosted the Soccer, Cricket and Rugby World Cup!', 'Table Mountain in Cape Town is believed to be one of the oldest mountains in the world and one of the planet’s 12 main energy centres, radiating magnetic, electric or spiritual energy.', 'The Cape Floral Kingdom is one of the world’s six floral kingdoms – and the only one which is wholly contained within a single country.', 'Some countries have deserts; some have subtropical forests, right? South Africa has: deserts, wetlands, grasslands, bush, subtropical forests, mountains and escarpments.', 'South Africa’s drinking water is rated 3rd best in the world for being safe and ready to drink.', 'Water is not all there is to drink in this thirsty country! South Africa’s Cape Winelands have around 560 wineries and 4 400 primary producers. Included in the Cape Winelands region is Route 62, considered the longest wine route in the world. That alone is good reason to visit South Africa if you haven’t yet been!', 'What about beer? South African brewery SABMiller ranks – by volume – as the largest brewing company in the world. Saffers love their beer…but the real reason the brewery is so big? SABMiller also supplies up to 50% of China’s beer.', 'South Africa is the only country in the entire world that has voluntarily abandoned its nuclear weapons programme.', 'The world’s largest themed resort hotel in the world – The Palace of the Lost City – is found in South Africa. Surrounding the Palace is a 25 hectare manmade botanical jungle with almost 2 million plants, trees and shrubs.', 'South Africa is extremely rich in mining and minerals and considered the world’s leader with nearly 90% of all the platinum metals on earth and around 41% of all the world’s Gold!', 'South Africa is home to the oldest meteor scar in the world – the Vredefort Dome in a town called Parys. The site is a UNESCO World Heritage Site.', 'The South African Rovos Rail is considered the most luxurious train in the world.', 'South Africa is home to the highest commercial bungi jump in the world at 710 feet.', 'General Motors South Africa is the only place outside of the USA to build the Hummer H3!', 'Despite the country’s status as a democratic republic, the Province of KwaZulu-Natal has a monarchy, specially provided for by the Constitution. Goodwill Zwelithini kaBhekuzulu is the King of the Zulu Nation, has 27 kids and 6 wives and lives, literally, like a King!', 'There are more than 2000 shipwrecks off the South African coast, most dating back at least 500 years.', 'The oldest remains of modern humans were found in South Africa and are well over 160,000 years old.', 'The Karoo region in the Western Cape is home to some of the best fossils of early dinosaurs. In fact, it is estimated that some 80% of the mammalian fossils found to date were found in the Karoo.', 'SA has three capital cities: Pretoria is the Executive Capital, Cape Town the Legislative Capital and Bloemfontein the judicial Capital.', 'Can you think of any other place in the world where two Nobel Peace Prize winners lived on the same street? Both Nelson Mandela and Archbishop Desmond Tutu had houses on Vilakazi Street in Soweto']}\n"
          ]
        }
      ]
    },
    {
      "cell_type": "code",
      "source": [
        "for intent in intents['intents']:\n",
        "    for pattern in intent['patterns']:\n",
        "      print(pattern)"
      ],
      "metadata": {
        "colab": {
          "base_uri": "https://localhost:8080/"
        },
        "id": "8oj8Ci6LbGWO",
        "outputId": "0b0a18f1-1219-4037-badf-c2c4943b6654"
      },
      "execution_count": null,
      "outputs": [
        {
          "output_type": "stream",
          "name": "stdout",
          "text": [
            "Hi there\n",
            "How are you\n",
            "Is anyone there?\n",
            "Hey\n",
            "Hola\n",
            "Hello\n",
            "Good day\n",
            "Hey\n",
            "Ekse\n",
            "Hi\n",
            "Bye\n",
            "See you later\n",
            "Goodbye\n",
            "Ok bye\n",
            "Bye Bye\n",
            "Thanks\n",
            "Thank you\n",
            "That's helpful\n",
            "Awesome, thanks\n",
            "Thanks for helping me\n",
            "What is your name\n",
            "Whats your name\n",
            "Tell me your name\n",
            "Who are you\n",
            "Ungubani\n",
            "Tell me about yourself\n",
            "You are\n",
            "What do you do\n",
            "How can you help\n",
            "What do you know\n",
            "What is your purpose\n",
            "How can you help\n",
            "South Africa\n",
            "What can you tell me about SA\n",
            "SA\n",
            "Tell me about SA\n",
            "What about SA\n",
            "What do you know about SA\n",
            "Tell me more about SA\n",
            "What can you tell me about South Africa\n",
            "Tell me about South Africa\n",
            "What about South Africa\n",
            "What do you know about South Africa\n",
            "Tell me more about South Africa\n",
            "South Africa Facts\n",
            "SA Facts\n",
            "Give me some facts about SA\n",
            "Give me some facts about South Africa\n",
            "SA Facts\n",
            "SA interesting facts\n",
            "South Africa facts\n",
            "South Africa interesting facts\n",
            "Tell me something interesting\n"
          ]
        }
      ]
    },
    {
      "cell_type": "code",
      "source": [
        "for intent in intents['intents']:\n",
        "    for pattern in intent['patterns']:\n",
        "\n",
        "        w = nltk.word_tokenize(pattern)\n",
        "        words.extend(w)\n",
        "\n",
        "        documents.append((w, intent['tag']))"
      ],
      "metadata": {
        "id": "GOnAoR48bP7U"
      },
      "execution_count": null,
      "outputs": []
    },
    {
      "cell_type": "code",
      "source": [
        "words"
      ],
      "metadata": {
        "colab": {
          "base_uri": "https://localhost:8080/"
        },
        "id": "jUWFntzzbpIX",
        "outputId": "6ba2741f-dfd9-44d3-aef4-95d0a155a9b7"
      },
      "execution_count": null,
      "outputs": [
        {
          "output_type": "execute_result",
          "data": {
            "text/plain": [
              "['Hi',\n",
              " 'there',\n",
              " 'How',\n",
              " 'are',\n",
              " 'you',\n",
              " 'Is',\n",
              " 'anyone',\n",
              " 'there',\n",
              " '?',\n",
              " 'Hey',\n",
              " 'Hola',\n",
              " 'Hello',\n",
              " 'Good',\n",
              " 'day',\n",
              " 'Hey',\n",
              " 'Ekse',\n",
              " 'Hi',\n",
              " 'Bye',\n",
              " 'See',\n",
              " 'you',\n",
              " 'later',\n",
              " 'Goodbye',\n",
              " 'Ok',\n",
              " 'bye',\n",
              " 'Bye',\n",
              " 'Bye',\n",
              " 'Thanks',\n",
              " 'Thank',\n",
              " 'you',\n",
              " 'That',\n",
              " \"'s\",\n",
              " 'helpful',\n",
              " 'Awesome',\n",
              " ',',\n",
              " 'thanks',\n",
              " 'Thanks',\n",
              " 'for',\n",
              " 'helping',\n",
              " 'me',\n",
              " 'What',\n",
              " 'is',\n",
              " 'your',\n",
              " 'name',\n",
              " 'Whats',\n",
              " 'your',\n",
              " 'name',\n",
              " 'Tell',\n",
              " 'me',\n",
              " 'your',\n",
              " 'name',\n",
              " 'Who',\n",
              " 'are',\n",
              " 'you',\n",
              " 'Ungubani',\n",
              " 'Tell',\n",
              " 'me',\n",
              " 'about',\n",
              " 'yourself',\n",
              " 'You',\n",
              " 'are',\n",
              " 'What',\n",
              " 'do',\n",
              " 'you',\n",
              " 'do',\n",
              " 'How',\n",
              " 'can',\n",
              " 'you',\n",
              " 'help',\n",
              " 'What',\n",
              " 'do',\n",
              " 'you',\n",
              " 'know',\n",
              " 'What',\n",
              " 'is',\n",
              " 'your',\n",
              " 'purpose',\n",
              " 'How',\n",
              " 'can',\n",
              " 'you',\n",
              " 'help',\n",
              " 'South',\n",
              " 'Africa',\n",
              " 'What',\n",
              " 'can',\n",
              " 'you',\n",
              " 'tell',\n",
              " 'me',\n",
              " 'about',\n",
              " 'SA',\n",
              " 'SA',\n",
              " 'Tell',\n",
              " 'me',\n",
              " 'about',\n",
              " 'SA',\n",
              " 'What',\n",
              " 'about',\n",
              " 'SA',\n",
              " 'What',\n",
              " 'do',\n",
              " 'you',\n",
              " 'know',\n",
              " 'about',\n",
              " 'SA',\n",
              " 'Tell',\n",
              " 'me',\n",
              " 'more',\n",
              " 'about',\n",
              " 'SA',\n",
              " 'What',\n",
              " 'can',\n",
              " 'you',\n",
              " 'tell',\n",
              " 'me',\n",
              " 'about',\n",
              " 'South',\n",
              " 'Africa',\n",
              " 'Tell',\n",
              " 'me',\n",
              " 'about',\n",
              " 'South',\n",
              " 'Africa',\n",
              " 'What',\n",
              " 'about',\n",
              " 'South',\n",
              " 'Africa',\n",
              " 'What',\n",
              " 'do',\n",
              " 'you',\n",
              " 'know',\n",
              " 'about',\n",
              " 'South',\n",
              " 'Africa',\n",
              " 'Tell',\n",
              " 'me',\n",
              " 'more',\n",
              " 'about',\n",
              " 'South',\n",
              " 'Africa',\n",
              " 'South',\n",
              " 'Africa',\n",
              " 'Facts',\n",
              " 'SA',\n",
              " 'Facts',\n",
              " 'Give',\n",
              " 'me',\n",
              " 'some',\n",
              " 'facts',\n",
              " 'about',\n",
              " 'SA',\n",
              " 'Give',\n",
              " 'me',\n",
              " 'some',\n",
              " 'facts',\n",
              " 'about',\n",
              " 'South',\n",
              " 'Africa',\n",
              " 'SA',\n",
              " 'Facts',\n",
              " 'SA',\n",
              " 'interesting',\n",
              " 'facts',\n",
              " 'South',\n",
              " 'Africa',\n",
              " 'facts',\n",
              " 'South',\n",
              " 'Africa',\n",
              " 'interesting',\n",
              " 'facts',\n",
              " 'Tell',\n",
              " 'me',\n",
              " 'something',\n",
              " 'interesting']"
            ]
          },
          "metadata": {},
          "execution_count": 98
        }
      ]
    },
    {
      "cell_type": "code",
      "source": [
        "documents"
      ],
      "metadata": {
        "colab": {
          "base_uri": "https://localhost:8080/"
        },
        "id": "3wnnIgWVbti8",
        "outputId": "00654d7f-c8cb-49ae-cc99-1d1af616da1b"
      },
      "execution_count": null,
      "outputs": [
        {
          "output_type": "execute_result",
          "data": {
            "text/plain": [
              "[(['Hi', 'there'], 'greeting'),\n",
              " (['How', 'are', 'you'], 'greeting'),\n",
              " (['Is', 'anyone', 'there', '?'], 'greeting'),\n",
              " (['Hey'], 'greeting'),\n",
              " (['Hola'], 'greeting'),\n",
              " (['Hello'], 'greeting'),\n",
              " (['Good', 'day'], 'greeting'),\n",
              " (['Hey'], 'greeting'),\n",
              " (['Ekse'], 'greeting'),\n",
              " (['Hi'], 'greeting'),\n",
              " (['Bye'], 'goodbye'),\n",
              " (['See', 'you', 'later'], 'goodbye'),\n",
              " (['Goodbye'], 'goodbye'),\n",
              " (['Ok', 'bye'], 'goodbye'),\n",
              " (['Bye', 'Bye'], 'goodbye'),\n",
              " (['Thanks'], 'thanks'),\n",
              " (['Thank', 'you'], 'thanks'),\n",
              " (['That', \"'s\", 'helpful'], 'thanks'),\n",
              " (['Awesome', ',', 'thanks'], 'thanks'),\n",
              " (['Thanks', 'for', 'helping', 'me'], 'thanks'),\n",
              " (['What', 'is', 'your', 'name'], 'name'),\n",
              " (['Whats', 'your', 'name'], 'name'),\n",
              " (['Tell', 'me', 'your', 'name'], 'name'),\n",
              " (['Who', 'are', 'you'], 'name'),\n",
              " (['Ungubani'], 'name'),\n",
              " (['Tell', 'me', 'about', 'yourself'], 'name'),\n",
              " (['You', 'are'], 'name'),\n",
              " (['What', 'do', 'you', 'do'], 'options'),\n",
              " (['How', 'can', 'you', 'help'], 'options'),\n",
              " (['What', 'do', 'you', 'know'], 'options'),\n",
              " (['What', 'is', 'your', 'purpose'], 'options'),\n",
              " (['How', 'can', 'you', 'help'], 'options'),\n",
              " (['South', 'Africa'], 'south_africa_info'),\n",
              " (['What', 'can', 'you', 'tell', 'me', 'about', 'SA'], 'south_africa_info'),\n",
              " (['SA'], 'south_africa_info'),\n",
              " (['Tell', 'me', 'about', 'SA'], 'south_africa_info'),\n",
              " (['What', 'about', 'SA'], 'south_africa_info'),\n",
              " (['What', 'do', 'you', 'know', 'about', 'SA'], 'south_africa_info'),\n",
              " (['Tell', 'me', 'more', 'about', 'SA'], 'south_africa_info'),\n",
              " (['What', 'can', 'you', 'tell', 'me', 'about', 'South', 'Africa'],\n",
              "  'south_africa_info'),\n",
              " (['Tell', 'me', 'about', 'South', 'Africa'], 'south_africa_info'),\n",
              " (['What', 'about', 'South', 'Africa'], 'south_africa_info'),\n",
              " (['What', 'do', 'you', 'know', 'about', 'South', 'Africa'],\n",
              "  'south_africa_info'),\n",
              " (['Tell', 'me', 'more', 'about', 'South', 'Africa'], 'south_africa_info'),\n",
              " (['South', 'Africa', 'Facts'], 'south_africa_facts'),\n",
              " (['SA', 'Facts'], 'south_africa_facts'),\n",
              " (['Give', 'me', 'some', 'facts', 'about', 'SA'], 'south_africa_facts'),\n",
              " (['Give', 'me', 'some', 'facts', 'about', 'South', 'Africa'],\n",
              "  'south_africa_facts'),\n",
              " (['SA', 'Facts'], 'south_africa_facts'),\n",
              " (['SA', 'interesting', 'facts'], 'south_africa_facts'),\n",
              " (['South', 'Africa', 'facts'], 'south_africa_facts'),\n",
              " (['South', 'Africa', 'interesting', 'facts'], 'south_africa_facts'),\n",
              " (['Tell', 'me', 'something', 'interesting'], 'south_africa_facts')]"
            ]
          },
          "metadata": {},
          "execution_count": 99
        }
      ]
    },
    {
      "cell_type": "code",
      "source": [
        "for intent in intents['intents']:\n",
        "    for pattern in intent['patterns']:\n",
        "\n",
        "        w = nltk.word_tokenize(pattern)\n",
        "        words.extend(w)\n",
        "\n",
        "        documents.append((w, intent['tag']))\n",
        "\n",
        "\n",
        "        if intent['tag'] not in classes:\n",
        "            classes.append(intent['tag'])"
      ],
      "metadata": {
        "id": "dlh6LOCYb2o9"
      },
      "execution_count": null,
      "outputs": []
    },
    {
      "cell_type": "code",
      "source": [
        "classes"
      ],
      "metadata": {
        "colab": {
          "base_uri": "https://localhost:8080/"
        },
        "id": "7MR-NB6zcJsk",
        "outputId": "004f6d65-7dce-4674-81a8-c6109a3ba301"
      },
      "execution_count": null,
      "outputs": [
        {
          "output_type": "execute_result",
          "data": {
            "text/plain": [
              "['greeting',\n",
              " 'goodbye',\n",
              " 'thanks',\n",
              " 'name',\n",
              " 'options',\n",
              " 'south_africa_info',\n",
              " 'south_africa_facts']"
            ]
          },
          "metadata": {},
          "execution_count": 101
        }
      ]
    },
    {
      "cell_type": "code",
      "source": [
        "lemmatizer = WordNetLemmatizer()"
      ],
      "metadata": {
        "id": "HgVPA_DBcLx0"
      },
      "execution_count": null,
      "outputs": []
    },
    {
      "cell_type": "code",
      "source": [
        "lm_words = [lemmatizer.lemmatize(w.lower()) for w in words if w not in ignore_words]"
      ],
      "metadata": {
        "id": "VarheiyOcxm1"
      },
      "execution_count": null,
      "outputs": []
    },
    {
      "cell_type": "code",
      "source": [
        "print(words, \"\\n\" ,lm_words)"
      ],
      "metadata": {
        "colab": {
          "base_uri": "https://localhost:8080/"
        },
        "id": "Iat5P5VBdALm",
        "outputId": "f4a69401-472a-42b8-cec9-67be5e72fac3"
      },
      "execution_count": null,
      "outputs": [
        {
          "output_type": "stream",
          "name": "stdout",
          "text": [
            "['Hi', 'there', 'How', 'are', 'you', 'Is', 'anyone', 'there', '?', 'Hey', 'Hola', 'Hello', 'Good', 'day', 'Hey', 'Ekse', 'Hi', 'Bye', 'See', 'you', 'later', 'Goodbye', 'Ok', 'bye', 'Bye', 'Bye', 'Thanks', 'Thank', 'you', 'That', \"'s\", 'helpful', 'Awesome', ',', 'thanks', 'Thanks', 'for', 'helping', 'me', 'What', 'is', 'your', 'name', 'Whats', 'your', 'name', 'Tell', 'me', 'your', 'name', 'Who', 'are', 'you', 'Ungubani', 'Tell', 'me', 'about', 'yourself', 'You', 'are', 'What', 'do', 'you', 'do', 'How', 'can', 'you', 'help', 'What', 'do', 'you', 'know', 'What', 'is', 'your', 'purpose', 'How', 'can', 'you', 'help', 'South', 'Africa', 'What', 'can', 'you', 'tell', 'me', 'about', 'SA', 'SA', 'Tell', 'me', 'about', 'SA', 'What', 'about', 'SA', 'What', 'do', 'you', 'know', 'about', 'SA', 'Tell', 'me', 'more', 'about', 'SA', 'What', 'can', 'you', 'tell', 'me', 'about', 'South', 'Africa', 'Tell', 'me', 'about', 'South', 'Africa', 'What', 'about', 'South', 'Africa', 'What', 'do', 'you', 'know', 'about', 'South', 'Africa', 'Tell', 'me', 'more', 'about', 'South', 'Africa', 'South', 'Africa', 'Facts', 'SA', 'Facts', 'Give', 'me', 'some', 'facts', 'about', 'SA', 'Give', 'me', 'some', 'facts', 'about', 'South', 'Africa', 'SA', 'Facts', 'SA', 'interesting', 'facts', 'South', 'Africa', 'facts', 'South', 'Africa', 'interesting', 'facts', 'Tell', 'me', 'something', 'interesting', 'Hi', 'there', 'How', 'are', 'you', 'Is', 'anyone', 'there', '?', 'Hey', 'Hola', 'Hello', 'Good', 'day', 'Hey', 'Ekse', 'Hi', 'Bye', 'See', 'you', 'later', 'Goodbye', 'Ok', 'bye', 'Bye', 'Bye', 'Thanks', 'Thank', 'you', 'That', \"'s\", 'helpful', 'Awesome', ',', 'thanks', 'Thanks', 'for', 'helping', 'me', 'What', 'is', 'your', 'name', 'Whats', 'your', 'name', 'Tell', 'me', 'your', 'name', 'Who', 'are', 'you', 'Ungubani', 'Tell', 'me', 'about', 'yourself', 'You', 'are', 'What', 'do', 'you', 'do', 'How', 'can', 'you', 'help', 'What', 'do', 'you', 'know', 'What', 'is', 'your', 'purpose', 'How', 'can', 'you', 'help', 'South', 'Africa', 'What', 'can', 'you', 'tell', 'me', 'about', 'SA', 'SA', 'Tell', 'me', 'about', 'SA', 'What', 'about', 'SA', 'What', 'do', 'you', 'know', 'about', 'SA', 'Tell', 'me', 'more', 'about', 'SA', 'What', 'can', 'you', 'tell', 'me', 'about', 'South', 'Africa', 'Tell', 'me', 'about', 'South', 'Africa', 'What', 'about', 'South', 'Africa', 'What', 'do', 'you', 'know', 'about', 'South', 'Africa', 'Tell', 'me', 'more', 'about', 'South', 'Africa', 'South', 'Africa', 'Facts', 'SA', 'Facts', 'Give', 'me', 'some', 'facts', 'about', 'SA', 'Give', 'me', 'some', 'facts', 'about', 'South', 'Africa', 'SA', 'Facts', 'SA', 'interesting', 'facts', 'South', 'Africa', 'facts', 'South', 'Africa', 'interesting', 'facts', 'Tell', 'me', 'something', 'interesting'] \n",
            " ['hi', 'there', 'how', 'are', 'you', 'is', 'anyone', 'there', 'hey', 'hola', 'hello', 'good', 'day', 'hey', 'ekse', 'hi', 'bye', 'see', 'you', 'later', 'goodbye', 'ok', 'bye', 'bye', 'bye', 'thanks', 'thank', 'you', 'that', \"'s\", 'helpful', 'awesome', ',', 'thanks', 'thanks', 'for', 'helping', 'me', 'what', 'is', 'your', 'name', 'whats', 'your', 'name', 'tell', 'me', 'your', 'name', 'who', 'are', 'you', 'ungubani', 'tell', 'me', 'about', 'yourself', 'you', 'are', 'what', 'do', 'you', 'do', 'how', 'can', 'you', 'help', 'what', 'do', 'you', 'know', 'what', 'is', 'your', 'purpose', 'how', 'can', 'you', 'help', 'south', 'africa', 'what', 'can', 'you', 'tell', 'me', 'about', 'sa', 'sa', 'tell', 'me', 'about', 'sa', 'what', 'about', 'sa', 'what', 'do', 'you', 'know', 'about', 'sa', 'tell', 'me', 'more', 'about', 'sa', 'what', 'can', 'you', 'tell', 'me', 'about', 'south', 'africa', 'tell', 'me', 'about', 'south', 'africa', 'what', 'about', 'south', 'africa', 'what', 'do', 'you', 'know', 'about', 'south', 'africa', 'tell', 'me', 'more', 'about', 'south', 'africa', 'south', 'africa', 'fact', 'sa', 'fact', 'give', 'me', 'some', 'fact', 'about', 'sa', 'give', 'me', 'some', 'fact', 'about', 'south', 'africa', 'sa', 'fact', 'sa', 'interesting', 'fact', 'south', 'africa', 'fact', 'south', 'africa', 'interesting', 'fact', 'tell', 'me', 'something', 'interesting', 'hi', 'there', 'how', 'are', 'you', 'is', 'anyone', 'there', 'hey', 'hola', 'hello', 'good', 'day', 'hey', 'ekse', 'hi', 'bye', 'see', 'you', 'later', 'goodbye', 'ok', 'bye', 'bye', 'bye', 'thanks', 'thank', 'you', 'that', \"'s\", 'helpful', 'awesome', ',', 'thanks', 'thanks', 'for', 'helping', 'me', 'what', 'is', 'your', 'name', 'whats', 'your', 'name', 'tell', 'me', 'your', 'name', 'who', 'are', 'you', 'ungubani', 'tell', 'me', 'about', 'yourself', 'you', 'are', 'what', 'do', 'you', 'do', 'how', 'can', 'you', 'help', 'what', 'do', 'you', 'know', 'what', 'is', 'your', 'purpose', 'how', 'can', 'you', 'help', 'south', 'africa', 'what', 'can', 'you', 'tell', 'me', 'about', 'sa', 'sa', 'tell', 'me', 'about', 'sa', 'what', 'about', 'sa', 'what', 'do', 'you', 'know', 'about', 'sa', 'tell', 'me', 'more', 'about', 'sa', 'what', 'can', 'you', 'tell', 'me', 'about', 'south', 'africa', 'tell', 'me', 'about', 'south', 'africa', 'what', 'about', 'south', 'africa', 'what', 'do', 'you', 'know', 'about', 'south', 'africa', 'tell', 'me', 'more', 'about', 'south', 'africa', 'south', 'africa', 'fact', 'sa', 'fact', 'give', 'me', 'some', 'fact', 'about', 'sa', 'give', 'me', 'some', 'fact', 'about', 'south', 'africa', 'sa', 'fact', 'sa', 'interesting', 'fact', 'south', 'africa', 'fact', 'south', 'africa', 'interesting', 'fact', 'tell', 'me', 'something', 'interesting']\n"
          ]
        }
      ]
    },
    {
      "cell_type": "code",
      "source": [
        "lm_words = sorted(list(set(lm_words)))\n",
        "lm_words"
      ],
      "metadata": {
        "colab": {
          "base_uri": "https://localhost:8080/"
        },
        "id": "Txx9PIhRdL11",
        "outputId": "ba2bbf13-2414-4047-ff96-61c0f639a5ce"
      },
      "execution_count": null,
      "outputs": [
        {
          "output_type": "execute_result",
          "data": {
            "text/plain": [
              "[\"'s\",\n",
              " ',',\n",
              " 'about',\n",
              " 'africa',\n",
              " 'anyone',\n",
              " 'are',\n",
              " 'awesome',\n",
              " 'bye',\n",
              " 'can',\n",
              " 'day',\n",
              " 'do',\n",
              " 'ekse',\n",
              " 'fact',\n",
              " 'for',\n",
              " 'give',\n",
              " 'good',\n",
              " 'goodbye',\n",
              " 'hello',\n",
              " 'help',\n",
              " 'helpful',\n",
              " 'helping',\n",
              " 'hey',\n",
              " 'hi',\n",
              " 'hola',\n",
              " 'how',\n",
              " 'interesting',\n",
              " 'is',\n",
              " 'know',\n",
              " 'later',\n",
              " 'me',\n",
              " 'more',\n",
              " 'name',\n",
              " 'ok',\n",
              " 'purpose',\n",
              " 'sa',\n",
              " 'see',\n",
              " 'some',\n",
              " 'something',\n",
              " 'south',\n",
              " 'tell',\n",
              " 'thank',\n",
              " 'thanks',\n",
              " 'that',\n",
              " 'there',\n",
              " 'ungubani',\n",
              " 'what',\n",
              " 'whats',\n",
              " 'who',\n",
              " 'you',\n",
              " 'your',\n",
              " 'yourself']"
            ]
          },
          "metadata": {},
          "execution_count": 105
        }
      ]
    },
    {
      "cell_type": "code",
      "source": [
        "classes = sorted(list(set(classes)))\n",
        "\n",
        "print (len(documents), \"documents\")\n",
        "print (len(classes), \"classes\", classes)\n",
        "print (len(lm_words), \"unique lemmatized words\", lm_words)"
      ],
      "metadata": {
        "colab": {
          "base_uri": "https://localhost:8080/"
        },
        "id": "nbo0ZjYidrOz",
        "outputId": "15aae13f-9700-49f1-f48a-46f68ca42305"
      },
      "execution_count": null,
      "outputs": [
        {
          "output_type": "stream",
          "name": "stdout",
          "text": [
            "106 documents\n",
            "7 classes ['goodbye', 'greeting', 'name', 'options', 'south_africa_facts', 'south_africa_info', 'thanks']\n",
            "51 unique lemmatized words [\"'s\", ',', 'about', 'africa', 'anyone', 'are', 'awesome', 'bye', 'can', 'day', 'do', 'ekse', 'fact', 'for', 'give', 'good', 'goodbye', 'hello', 'help', 'helpful', 'helping', 'hey', 'hi', 'hola', 'how', 'interesting', 'is', 'know', 'later', 'me', 'more', 'name', 'ok', 'purpose', 'sa', 'see', 'some', 'something', 'south', 'tell', 'thank', 'thanks', 'that', 'there', 'ungubani', 'what', 'whats', 'who', 'you', 'your', 'yourself']\n"
          ]
        }
      ]
    },
    {
      "cell_type": "code",
      "source": [
        "pickle.dump(lm_words,open('words.pkl','wb'))\n",
        "pickle.dump(classes,open('classes.pkl','wb'))"
      ],
      "metadata": {
        "id": "8V6Tuy9aeDA0"
      },
      "execution_count": null,
      "outputs": []
    },
    {
      "cell_type": "markdown",
      "source": [
        "# Feature Engineering / Text representation"
      ],
      "metadata": {
        "id": "S2vjq_Eq2zXC"
      }
    },
    {
      "cell_type": "code",
      "source": [
        "# initializing training data\n",
        "training = []\n",
        "output_empty = [0] * len(classes)"
      ],
      "metadata": {
        "id": "PSQahgwJecNz"
      },
      "execution_count": null,
      "outputs": []
    },
    {
      "cell_type": "code",
      "source": [
        "output_empty"
      ],
      "metadata": {
        "colab": {
          "base_uri": "https://localhost:8080/"
        },
        "id": "j2UzIiQYe4OG",
        "outputId": "8c412185-3f20-437e-8386-ad5caf75395e"
      },
      "execution_count": null,
      "outputs": [
        {
          "output_type": "execute_result",
          "data": {
            "text/plain": [
              "[0, 0, 0, 0, 0, 0, 0]"
            ]
          },
          "metadata": {},
          "execution_count": 109
        }
      ]
    },
    {
      "cell_type": "code",
      "source": [
        "for doc in documents:\n",
        "    bag = []\n",
        "    pattern_words = doc[0]\n",
        "    print(pattern_words)"
      ],
      "metadata": {
        "colab": {
          "base_uri": "https://localhost:8080/"
        },
        "id": "S8t7_Za5e5ar",
        "outputId": "c328fa73-1398-409b-d914-cd2791b9f6ea"
      },
      "execution_count": null,
      "outputs": [
        {
          "output_type": "stream",
          "name": "stdout",
          "text": [
            "['Hi', 'there']\n",
            "['How', 'are', 'you']\n",
            "['Is', 'anyone', 'there', '?']\n",
            "['Hey']\n",
            "['Hola']\n",
            "['Hello']\n",
            "['Good', 'day']\n",
            "['Hey']\n",
            "['Ekse']\n",
            "['Hi']\n",
            "['Bye']\n",
            "['See', 'you', 'later']\n",
            "['Goodbye']\n",
            "['Ok', 'bye']\n",
            "['Bye', 'Bye']\n",
            "['Thanks']\n",
            "['Thank', 'you']\n",
            "['That', \"'s\", 'helpful']\n",
            "['Awesome', ',', 'thanks']\n",
            "['Thanks', 'for', 'helping', 'me']\n",
            "['What', 'is', 'your', 'name']\n",
            "['Whats', 'your', 'name']\n",
            "['Tell', 'me', 'your', 'name']\n",
            "['Who', 'are', 'you']\n",
            "['Ungubani']\n",
            "['Tell', 'me', 'about', 'yourself']\n",
            "['You', 'are']\n",
            "['What', 'do', 'you', 'do']\n",
            "['How', 'can', 'you', 'help']\n",
            "['What', 'do', 'you', 'know']\n",
            "['What', 'is', 'your', 'purpose']\n",
            "['How', 'can', 'you', 'help']\n",
            "['South', 'Africa']\n",
            "['What', 'can', 'you', 'tell', 'me', 'about', 'SA']\n",
            "['SA']\n",
            "['Tell', 'me', 'about', 'SA']\n",
            "['What', 'about', 'SA']\n",
            "['What', 'do', 'you', 'know', 'about', 'SA']\n",
            "['Tell', 'me', 'more', 'about', 'SA']\n",
            "['What', 'can', 'you', 'tell', 'me', 'about', 'South', 'Africa']\n",
            "['Tell', 'me', 'about', 'South', 'Africa']\n",
            "['What', 'about', 'South', 'Africa']\n",
            "['What', 'do', 'you', 'know', 'about', 'South', 'Africa']\n",
            "['Tell', 'me', 'more', 'about', 'South', 'Africa']\n",
            "['South', 'Africa', 'Facts']\n",
            "['SA', 'Facts']\n",
            "['Give', 'me', 'some', 'facts', 'about', 'SA']\n",
            "['Give', 'me', 'some', 'facts', 'about', 'South', 'Africa']\n",
            "['SA', 'Facts']\n",
            "['SA', 'interesting', 'facts']\n",
            "['South', 'Africa', 'facts']\n",
            "['South', 'Africa', 'interesting', 'facts']\n",
            "['Tell', 'me', 'something', 'interesting']\n",
            "['Hi', 'there']\n",
            "['How', 'are', 'you']\n",
            "['Is', 'anyone', 'there', '?']\n",
            "['Hey']\n",
            "['Hola']\n",
            "['Hello']\n",
            "['Good', 'day']\n",
            "['Hey']\n",
            "['Ekse']\n",
            "['Hi']\n",
            "['Bye']\n",
            "['See', 'you', 'later']\n",
            "['Goodbye']\n",
            "['Ok', 'bye']\n",
            "['Bye', 'Bye']\n",
            "['Thanks']\n",
            "['Thank', 'you']\n",
            "['That', \"'s\", 'helpful']\n",
            "['Awesome', ',', 'thanks']\n",
            "['Thanks', 'for', 'helping', 'me']\n",
            "['What', 'is', 'your', 'name']\n",
            "['Whats', 'your', 'name']\n",
            "['Tell', 'me', 'your', 'name']\n",
            "['Who', 'are', 'you']\n",
            "['Ungubani']\n",
            "['Tell', 'me', 'about', 'yourself']\n",
            "['You', 'are']\n",
            "['What', 'do', 'you', 'do']\n",
            "['How', 'can', 'you', 'help']\n",
            "['What', 'do', 'you', 'know']\n",
            "['What', 'is', 'your', 'purpose']\n",
            "['How', 'can', 'you', 'help']\n",
            "['South', 'Africa']\n",
            "['What', 'can', 'you', 'tell', 'me', 'about', 'SA']\n",
            "['SA']\n",
            "['Tell', 'me', 'about', 'SA']\n",
            "['What', 'about', 'SA']\n",
            "['What', 'do', 'you', 'know', 'about', 'SA']\n",
            "['Tell', 'me', 'more', 'about', 'SA']\n",
            "['What', 'can', 'you', 'tell', 'me', 'about', 'South', 'Africa']\n",
            "['Tell', 'me', 'about', 'South', 'Africa']\n",
            "['What', 'about', 'South', 'Africa']\n",
            "['What', 'do', 'you', 'know', 'about', 'South', 'Africa']\n",
            "['Tell', 'me', 'more', 'about', 'South', 'Africa']\n",
            "['South', 'Africa', 'Facts']\n",
            "['SA', 'Facts']\n",
            "['Give', 'me', 'some', 'facts', 'about', 'SA']\n",
            "['Give', 'me', 'some', 'facts', 'about', 'South', 'Africa']\n",
            "['SA', 'Facts']\n",
            "['SA', 'interesting', 'facts']\n",
            "['South', 'Africa', 'facts']\n",
            "['South', 'Africa', 'interesting', 'facts']\n",
            "['Tell', 'me', 'something', 'interesting']\n"
          ]
        }
      ]
    },
    {
      "cell_type": "code",
      "source": [
        "for doc in documents:\n",
        "\n",
        "    bag = []\n",
        "\n",
        "    pattern_words = doc[0]\n",
        "    pattern_words = [lemmatizer.lemmatize(word.lower()) for word in pattern_words]\n",
        "\n",
        "    for w in lm_words:\n",
        "        bag.append(1) if w in pattern_words else bag.append(0)\n",
        "\n",
        "\n",
        "    output_row = list(output_empty)\n",
        "    output_row[classes.index(doc[1])] = 1\n",
        "    training.append([bag, output_row])"
      ],
      "metadata": {
        "id": "IkBGrOVbfHgy"
      },
      "execution_count": null,
      "outputs": []
    },
    {
      "cell_type": "code",
      "source": [
        "random.shuffle(training)\n",
        "training = np.array(training)"
      ],
      "metadata": {
        "colab": {
          "base_uri": "https://localhost:8080/"
        },
        "id": "1AB2dHz9gJWC",
        "outputId": "bc24167e-3e65-4cbf-fb9b-5f6679e43747"
      },
      "execution_count": null,
      "outputs": [
        {
          "output_type": "stream",
          "name": "stderr",
          "text": [
            "/usr/local/lib/python3.7/dist-packages/ipykernel_launcher.py:2: VisibleDeprecationWarning: Creating an ndarray from ragged nested sequences (which is a list-or-tuple of lists-or-tuples-or ndarrays with different lengths or shapes) is deprecated. If you meant to do this, you must specify 'dtype=object' when creating the ndarray.\n",
            "  \n"
          ]
        }
      ]
    },
    {
      "cell_type": "code",
      "source": [
        "training.shape"
      ],
      "metadata": {
        "colab": {
          "base_uri": "https://localhost:8080/"
        },
        "id": "IPNAXaighmST",
        "outputId": "aef56194-abad-4be8-dfb9-efb1e18b331f"
      },
      "execution_count": null,
      "outputs": [
        {
          "output_type": "execute_result",
          "data": {
            "text/plain": [
              "(106, 2)"
            ]
          },
          "metadata": {},
          "execution_count": 113
        }
      ]
    },
    {
      "cell_type": "code",
      "source": [
        "# create train and test lists. X - patterns, Y - intents\n",
        "train_x = list(training[:,0])\n",
        "train_y = list(training[:,1])\n",
        "\n",
        "VALIDATION_SET = (train_x, train_y)"
      ],
      "metadata": {
        "id": "HyUbvR83iEnT"
      },
      "execution_count": null,
      "outputs": []
    },
    {
      "cell_type": "markdown",
      "source": [
        "# Modeling & Evaluation"
      ],
      "metadata": {
        "id": "Uf-ipXSx2_ps"
      }
    },
    {
      "cell_type": "code",
      "source": [
        "# Create model - 3 layers. First layer 128 neurons, second layer 64 neurons and 3rd output layer contains number of neurons\n",
        "# equal to number of intents to predict output intent with softmax\n",
        "model = Sequential()\n",
        "model.add(Dense(128, input_shape=(len(train_x[0]),), activation='relu'))\n",
        "model.add(Dropout(0.5))\n",
        "model.add(Dense(64, activation='relu'))\n",
        "model.add(Dropout(0.5))\n",
        "model.add(Dense(len(train_y[0]), activation='softmax'))"
      ],
      "metadata": {
        "id": "rfWArZC9i-5K"
      },
      "execution_count": null,
      "outputs": []
    },
    {
      "cell_type": "code",
      "source": [
        "# Compile model. Stochastic gradient descent with Nesterov accelerated gradient gives good results for this model\n",
        "sgd = SGD(learning_rate=0.01, decay=1e-6, momentum=0.9, nesterov=True)\n",
        "model.compile(loss='categorical_crossentropy', optimizer=sgd, metrics=['accuracy'])"
      ],
      "metadata": {
        "id": "2FT4w7oTjL8l"
      },
      "execution_count": null,
      "outputs": []
    },
    {
      "cell_type": "code",
      "source": [
        "#fitting and saving the model\n",
        "history = model.fit(np.array(train_x), np.array(train_y), epochs=250, validation_data = VALIDATION_SET, batch_size=5, verbose=1)"
      ],
      "metadata": {
        "colab": {
          "base_uri": "https://localhost:8080/"
        },
        "id": "fSvB_b8PjVU0",
        "outputId": "71586e06-d478-405e-a014-0effc3d84334"
      },
      "execution_count": null,
      "outputs": [
        {
          "output_type": "stream",
          "name": "stdout",
          "text": [
            "Epoch 1/250\n",
            "22/22 [==============================] - 1s 16ms/step - loss: 1.9315 - accuracy: 0.2075 - val_loss: 1.7400 - val_accuracy: 0.3585\n",
            "Epoch 2/250\n",
            "22/22 [==============================] - 0s 7ms/step - loss: 1.6782 - accuracy: 0.3491 - val_loss: 1.4817 - val_accuracy: 0.5094\n",
            "Epoch 3/250\n",
            "22/22 [==============================] - 0s 14ms/step - loss: 1.4884 - accuracy: 0.5094 - val_loss: 1.2121 - val_accuracy: 0.6415\n",
            "Epoch 4/250\n",
            "22/22 [==============================] - 0s 8ms/step - loss: 1.2844 - accuracy: 0.5472 - val_loss: 0.9972 - val_accuracy: 0.7736\n",
            "Epoch 5/250\n",
            "22/22 [==============================] - 0s 7ms/step - loss: 1.0737 - accuracy: 0.6698 - val_loss: 0.8195 - val_accuracy: 0.8302\n",
            "Epoch 6/250\n",
            "22/22 [==============================] - 0s 6ms/step - loss: 0.9746 - accuracy: 0.7075 - val_loss: 0.6489 - val_accuracy: 0.8491\n",
            "Epoch 7/250\n",
            "22/22 [==============================] - 0s 6ms/step - loss: 0.8398 - accuracy: 0.7358 - val_loss: 0.5088 - val_accuracy: 0.9057\n",
            "Epoch 8/250\n",
            "22/22 [==============================] - 0s 8ms/step - loss: 0.7160 - accuracy: 0.8019 - val_loss: 0.4243 - val_accuracy: 0.9434\n",
            "Epoch 9/250\n",
            "22/22 [==============================] - 0s 7ms/step - loss: 0.7808 - accuracy: 0.7547 - val_loss: 0.4114 - val_accuracy: 0.9623\n",
            "Epoch 10/250\n",
            "22/22 [==============================] - 0s 7ms/step - loss: 0.6114 - accuracy: 0.8113 - val_loss: 0.3058 - val_accuracy: 0.9811\n",
            "Epoch 11/250\n",
            "22/22 [==============================] - 0s 7ms/step - loss: 0.5289 - accuracy: 0.8208 - val_loss: 0.2327 - val_accuracy: 0.9811\n",
            "Epoch 12/250\n",
            "22/22 [==============================] - 0s 7ms/step - loss: 0.3995 - accuracy: 0.9057 - val_loss: 0.1607 - val_accuracy: 0.9811\n",
            "Epoch 13/250\n",
            "22/22 [==============================] - 0s 6ms/step - loss: 0.3930 - accuracy: 0.8962 - val_loss: 0.1231 - val_accuracy: 1.0000\n",
            "Epoch 14/250\n",
            "22/22 [==============================] - 0s 6ms/step - loss: 0.3088 - accuracy: 0.9528 - val_loss: 0.0752 - val_accuracy: 1.0000\n",
            "Epoch 15/250\n",
            "22/22 [==============================] - 0s 7ms/step - loss: 0.2221 - accuracy: 0.9434 - val_loss: 0.0479 - val_accuracy: 1.0000\n",
            "Epoch 16/250\n",
            "22/22 [==============================] - 0s 6ms/step - loss: 0.2201 - accuracy: 0.9434 - val_loss: 0.0349 - val_accuracy: 1.0000\n",
            "Epoch 17/250\n",
            "22/22 [==============================] - 0s 6ms/step - loss: 0.1657 - accuracy: 0.9623 - val_loss: 0.0292 - val_accuracy: 1.0000\n",
            "Epoch 18/250\n",
            "22/22 [==============================] - 0s 6ms/step - loss: 0.1238 - accuracy: 0.9811 - val_loss: 0.0223 - val_accuracy: 1.0000\n",
            "Epoch 19/250\n",
            "22/22 [==============================] - 0s 6ms/step - loss: 0.1806 - accuracy: 0.9717 - val_loss: 0.0200 - val_accuracy: 1.0000\n",
            "Epoch 20/250\n",
            "22/22 [==============================] - 0s 6ms/step - loss: 0.1330 - accuracy: 0.9811 - val_loss: 0.0266 - val_accuracy: 1.0000\n",
            "Epoch 21/250\n",
            "22/22 [==============================] - 0s 7ms/step - loss: 0.1859 - accuracy: 0.9434 - val_loss: 0.0189 - val_accuracy: 1.0000\n",
            "Epoch 22/250\n",
            "22/22 [==============================] - 0s 7ms/step - loss: 0.1262 - accuracy: 0.9623 - val_loss: 0.0133 - val_accuracy: 1.0000\n",
            "Epoch 23/250\n",
            "22/22 [==============================] - 0s 6ms/step - loss: 0.1065 - accuracy: 0.9811 - val_loss: 0.0093 - val_accuracy: 1.0000\n",
            "Epoch 24/250\n",
            "22/22 [==============================] - 0s 6ms/step - loss: 0.1312 - accuracy: 0.9528 - val_loss: 0.0082 - val_accuracy: 1.0000\n",
            "Epoch 25/250\n",
            "22/22 [==============================] - 0s 6ms/step - loss: 0.1202 - accuracy: 0.9811 - val_loss: 0.0065 - val_accuracy: 1.0000\n",
            "Epoch 26/250\n",
            "22/22 [==============================] - 0s 7ms/step - loss: 0.0932 - accuracy: 0.9717 - val_loss: 0.0063 - val_accuracy: 1.0000\n",
            "Epoch 27/250\n",
            "22/22 [==============================] - 0s 13ms/step - loss: 0.0945 - accuracy: 0.9811 - val_loss: 0.0060 - val_accuracy: 1.0000\n",
            "Epoch 28/250\n",
            "22/22 [==============================] - 0s 10ms/step - loss: 0.1073 - accuracy: 0.9717 - val_loss: 0.0041 - val_accuracy: 1.0000\n",
            "Epoch 29/250\n",
            "22/22 [==============================] - 0s 16ms/step - loss: 0.1086 - accuracy: 0.9811 - val_loss: 0.0065 - val_accuracy: 1.0000\n",
            "Epoch 30/250\n",
            "22/22 [==============================] - 0s 13ms/step - loss: 0.0850 - accuracy: 0.9811 - val_loss: 0.0058 - val_accuracy: 1.0000\n",
            "Epoch 31/250\n",
            "22/22 [==============================] - 0s 11ms/step - loss: 0.0872 - accuracy: 0.9717 - val_loss: 0.0032 - val_accuracy: 1.0000\n",
            "Epoch 32/250\n",
            "22/22 [==============================] - 0s 11ms/step - loss: 0.1292 - accuracy: 0.9811 - val_loss: 0.0029 - val_accuracy: 1.0000\n",
            "Epoch 33/250\n",
            "22/22 [==============================] - 0s 13ms/step - loss: 0.0717 - accuracy: 0.9811 - val_loss: 0.0029 - val_accuracy: 1.0000\n",
            "Epoch 34/250\n",
            "22/22 [==============================] - 0s 13ms/step - loss: 0.0629 - accuracy: 0.9906 - val_loss: 0.0024 - val_accuracy: 1.0000\n",
            "Epoch 35/250\n",
            "22/22 [==============================] - 0s 15ms/step - loss: 0.0740 - accuracy: 0.9811 - val_loss: 0.0020 - val_accuracy: 1.0000\n",
            "Epoch 36/250\n",
            "22/22 [==============================] - 0s 14ms/step - loss: 0.0568 - accuracy: 0.9906 - val_loss: 0.0016 - val_accuracy: 1.0000\n",
            "Epoch 37/250\n",
            "22/22 [==============================] - 0s 9ms/step - loss: 0.0441 - accuracy: 0.9906 - val_loss: 0.0015 - val_accuracy: 1.0000\n",
            "Epoch 38/250\n",
            "22/22 [==============================] - 0s 14ms/step - loss: 0.0665 - accuracy: 0.9906 - val_loss: 0.0014 - val_accuracy: 1.0000\n",
            "Epoch 39/250\n",
            "22/22 [==============================] - 0s 10ms/step - loss: 0.0252 - accuracy: 1.0000 - val_loss: 0.0012 - val_accuracy: 1.0000\n",
            "Epoch 40/250\n",
            "22/22 [==============================] - 0s 12ms/step - loss: 0.0489 - accuracy: 0.9906 - val_loss: 0.0010 - val_accuracy: 1.0000\n",
            "Epoch 41/250\n",
            "22/22 [==============================] - 0s 15ms/step - loss: 0.0673 - accuracy: 0.9906 - val_loss: 0.0016 - val_accuracy: 1.0000\n",
            "Epoch 42/250\n",
            "22/22 [==============================] - 0s 10ms/step - loss: 0.0405 - accuracy: 0.9906 - val_loss: 0.0011 - val_accuracy: 1.0000\n",
            "Epoch 43/250\n",
            "22/22 [==============================] - 0s 10ms/step - loss: 0.0653 - accuracy: 0.9717 - val_loss: 8.7985e-04 - val_accuracy: 1.0000\n",
            "Epoch 44/250\n",
            "22/22 [==============================] - 0s 14ms/step - loss: 0.0566 - accuracy: 0.9811 - val_loss: 8.7958e-04 - val_accuracy: 1.0000\n",
            "Epoch 45/250\n",
            "22/22 [==============================] - 0s 15ms/step - loss: 0.0598 - accuracy: 0.9906 - val_loss: 8.4707e-04 - val_accuracy: 1.0000\n",
            "Epoch 46/250\n",
            "22/22 [==============================] - 0s 15ms/step - loss: 0.0179 - accuracy: 1.0000 - val_loss: 7.6007e-04 - val_accuracy: 1.0000\n",
            "Epoch 47/250\n",
            "22/22 [==============================] - 0s 16ms/step - loss: 0.0388 - accuracy: 0.9906 - val_loss: 5.7665e-04 - val_accuracy: 1.0000\n",
            "Epoch 48/250\n",
            "22/22 [==============================] - 0s 10ms/step - loss: 0.0625 - accuracy: 0.9811 - val_loss: 5.9307e-04 - val_accuracy: 1.0000\n",
            "Epoch 49/250\n",
            "22/22 [==============================] - 0s 17ms/step - loss: 0.0211 - accuracy: 0.9906 - val_loss: 5.7358e-04 - val_accuracy: 1.0000\n",
            "Epoch 50/250\n",
            "22/22 [==============================] - 0s 17ms/step - loss: 0.0125 - accuracy: 1.0000 - val_loss: 4.5831e-04 - val_accuracy: 1.0000\n",
            "Epoch 51/250\n",
            "22/22 [==============================] - 0s 17ms/step - loss: 0.0278 - accuracy: 0.9906 - val_loss: 3.8032e-04 - val_accuracy: 1.0000\n",
            "Epoch 52/250\n",
            "22/22 [==============================] - 0s 16ms/step - loss: 0.0611 - accuracy: 0.9717 - val_loss: 4.5785e-04 - val_accuracy: 1.0000\n",
            "Epoch 53/250\n",
            "22/22 [==============================] - 0s 11ms/step - loss: 0.0317 - accuracy: 0.9906 - val_loss: 3.8526e-04 - val_accuracy: 1.0000\n",
            "Epoch 54/250\n",
            "22/22 [==============================] - 0s 13ms/step - loss: 0.0604 - accuracy: 0.9906 - val_loss: 3.2669e-04 - val_accuracy: 1.0000\n",
            "Epoch 55/250\n",
            "22/22 [==============================] - 0s 14ms/step - loss: 0.0670 - accuracy: 0.9811 - val_loss: 3.5928e-04 - val_accuracy: 1.0000\n",
            "Epoch 56/250\n",
            "22/22 [==============================] - 0s 12ms/step - loss: 0.0315 - accuracy: 0.9906 - val_loss: 3.4236e-04 - val_accuracy: 1.0000\n",
            "Epoch 57/250\n",
            "22/22 [==============================] - 0s 13ms/step - loss: 0.0476 - accuracy: 0.9906 - val_loss: 3.6667e-04 - val_accuracy: 1.0000\n",
            "Epoch 58/250\n",
            "22/22 [==============================] - 0s 13ms/step - loss: 0.0190 - accuracy: 1.0000 - val_loss: 3.1561e-04 - val_accuracy: 1.0000\n",
            "Epoch 59/250\n",
            "22/22 [==============================] - 0s 12ms/step - loss: 0.0149 - accuracy: 1.0000 - val_loss: 3.1904e-04 - val_accuracy: 1.0000\n",
            "Epoch 60/250\n",
            "22/22 [==============================] - 0s 12ms/step - loss: 0.0430 - accuracy: 0.9906 - val_loss: 2.7726e-04 - val_accuracy: 1.0000\n",
            "Epoch 61/250\n",
            "22/22 [==============================] - 0s 12ms/step - loss: 0.0127 - accuracy: 1.0000 - val_loss: 2.5206e-04 - val_accuracy: 1.0000\n",
            "Epoch 62/250\n",
            "22/22 [==============================] - 0s 10ms/step - loss: 0.0206 - accuracy: 1.0000 - val_loss: 2.4981e-04 - val_accuracy: 1.0000\n",
            "Epoch 63/250\n",
            "22/22 [==============================] - 0s 13ms/step - loss: 0.0187 - accuracy: 1.0000 - val_loss: 2.3298e-04 - val_accuracy: 1.0000\n",
            "Epoch 64/250\n",
            "22/22 [==============================] - 0s 6ms/step - loss: 0.0270 - accuracy: 1.0000 - val_loss: 2.1612e-04 - val_accuracy: 1.0000\n",
            "Epoch 65/250\n",
            "22/22 [==============================] - 0s 7ms/step - loss: 0.0339 - accuracy: 1.0000 - val_loss: 1.9246e-04 - val_accuracy: 1.0000\n",
            "Epoch 66/250\n",
            "22/22 [==============================] - 0s 7ms/step - loss: 0.0507 - accuracy: 0.9717 - val_loss: 2.2355e-04 - val_accuracy: 1.0000\n",
            "Epoch 67/250\n",
            "22/22 [==============================] - 0s 7ms/step - loss: 0.0547 - accuracy: 0.9811 - val_loss: 2.1141e-04 - val_accuracy: 1.0000\n",
            "Epoch 68/250\n",
            "22/22 [==============================] - 0s 7ms/step - loss: 0.1499 - accuracy: 0.9528 - val_loss: 3.4712e-04 - val_accuracy: 1.0000\n",
            "Epoch 69/250\n",
            "22/22 [==============================] - 0s 6ms/step - loss: 0.0460 - accuracy: 0.9906 - val_loss: 0.0016 - val_accuracy: 1.0000\n",
            "Epoch 70/250\n",
            "22/22 [==============================] - 0s 6ms/step - loss: 0.0940 - accuracy: 0.9717 - val_loss: 7.7136e-04 - val_accuracy: 1.0000\n",
            "Epoch 71/250\n",
            "22/22 [==============================] - 0s 6ms/step - loss: 0.0244 - accuracy: 1.0000 - val_loss: 7.0196e-04 - val_accuracy: 1.0000\n",
            "Epoch 72/250\n",
            "22/22 [==============================] - 0s 6ms/step - loss: 0.0341 - accuracy: 0.9906 - val_loss: 3.5792e-04 - val_accuracy: 1.0000\n",
            "Epoch 73/250\n",
            "22/22 [==============================] - 0s 7ms/step - loss: 0.0276 - accuracy: 1.0000 - val_loss: 2.9957e-04 - val_accuracy: 1.0000\n",
            "Epoch 74/250\n",
            "22/22 [==============================] - 0s 7ms/step - loss: 0.0123 - accuracy: 1.0000 - val_loss: 2.7615e-04 - val_accuracy: 1.0000\n",
            "Epoch 75/250\n",
            "22/22 [==============================] - 0s 6ms/step - loss: 0.0170 - accuracy: 1.0000 - val_loss: 2.2962e-04 - val_accuracy: 1.0000\n",
            "Epoch 76/250\n",
            "22/22 [==============================] - 0s 6ms/step - loss: 0.0163 - accuracy: 1.0000 - val_loss: 2.0189e-04 - val_accuracy: 1.0000\n",
            "Epoch 77/250\n",
            "22/22 [==============================] - 0s 6ms/step - loss: 0.0296 - accuracy: 0.9906 - val_loss: 1.7459e-04 - val_accuracy: 1.0000\n",
            "Epoch 78/250\n",
            "22/22 [==============================] - 0s 6ms/step - loss: 0.0174 - accuracy: 1.0000 - val_loss: 1.6693e-04 - val_accuracy: 1.0000\n",
            "Epoch 79/250\n",
            "22/22 [==============================] - 0s 6ms/step - loss: 0.0325 - accuracy: 0.9906 - val_loss: 1.6182e-04 - val_accuracy: 1.0000\n",
            "Epoch 80/250\n",
            "22/22 [==============================] - 0s 7ms/step - loss: 0.0188 - accuracy: 1.0000 - val_loss: 1.5601e-04 - val_accuracy: 1.0000\n",
            "Epoch 81/250\n",
            "22/22 [==============================] - 0s 6ms/step - loss: 0.0233 - accuracy: 1.0000 - val_loss: 1.2942e-04 - val_accuracy: 1.0000\n",
            "Epoch 82/250\n",
            "22/22 [==============================] - 0s 6ms/step - loss: 0.0046 - accuracy: 1.0000 - val_loss: 1.1250e-04 - val_accuracy: 1.0000\n",
            "Epoch 83/250\n",
            "22/22 [==============================] - 0s 6ms/step - loss: 0.0108 - accuracy: 1.0000 - val_loss: 1.1232e-04 - val_accuracy: 1.0000\n",
            "Epoch 84/250\n",
            "22/22 [==============================] - 0s 7ms/step - loss: 0.0138 - accuracy: 1.0000 - val_loss: 1.0542e-04 - val_accuracy: 1.0000\n",
            "Epoch 85/250\n",
            "22/22 [==============================] - 0s 6ms/step - loss: 0.0251 - accuracy: 1.0000 - val_loss: 1.0213e-04 - val_accuracy: 1.0000\n",
            "Epoch 86/250\n",
            "22/22 [==============================] - 0s 6ms/step - loss: 0.0623 - accuracy: 0.9811 - val_loss: 9.6723e-05 - val_accuracy: 1.0000\n",
            "Epoch 87/250\n",
            "22/22 [==============================] - 0s 6ms/step - loss: 0.0196 - accuracy: 1.0000 - val_loss: 9.7582e-05 - val_accuracy: 1.0000\n",
            "Epoch 88/250\n",
            "22/22 [==============================] - 0s 6ms/step - loss: 0.0079 - accuracy: 1.0000 - val_loss: 9.0630e-05 - val_accuracy: 1.0000\n",
            "Epoch 89/250\n",
            "22/22 [==============================] - 0s 7ms/step - loss: 0.0145 - accuracy: 1.0000 - val_loss: 8.3544e-05 - val_accuracy: 1.0000\n",
            "Epoch 90/250\n",
            "22/22 [==============================] - 0s 6ms/step - loss: 0.0090 - accuracy: 1.0000 - val_loss: 7.6466e-05 - val_accuracy: 1.0000\n",
            "Epoch 91/250\n",
            "22/22 [==============================] - 0s 6ms/step - loss: 0.0199 - accuracy: 0.9906 - val_loss: 7.9567e-05 - val_accuracy: 1.0000\n",
            "Epoch 92/250\n",
            "22/22 [==============================] - 0s 8ms/step - loss: 0.0295 - accuracy: 0.9906 - val_loss: 7.1700e-05 - val_accuracy: 1.0000\n",
            "Epoch 93/250\n",
            "22/22 [==============================] - 0s 6ms/step - loss: 0.0067 - accuracy: 1.0000 - val_loss: 6.6346e-05 - val_accuracy: 1.0000\n",
            "Epoch 94/250\n",
            "22/22 [==============================] - 0s 7ms/step - loss: 0.0152 - accuracy: 0.9906 - val_loss: 6.1410e-05 - val_accuracy: 1.0000\n",
            "Epoch 95/250\n",
            "22/22 [==============================] - 0s 7ms/step - loss: 0.0165 - accuracy: 1.0000 - val_loss: 5.5298e-05 - val_accuracy: 1.0000\n",
            "Epoch 96/250\n",
            "22/22 [==============================] - 0s 7ms/step - loss: 0.0418 - accuracy: 0.9906 - val_loss: 4.9829e-05 - val_accuracy: 1.0000\n",
            "Epoch 97/250\n",
            "22/22 [==============================] - 0s 6ms/step - loss: 0.0062 - accuracy: 1.0000 - val_loss: 4.5839e-05 - val_accuracy: 1.0000\n",
            "Epoch 98/250\n",
            "22/22 [==============================] - 0s 6ms/step - loss: 0.0159 - accuracy: 1.0000 - val_loss: 4.1355e-05 - val_accuracy: 1.0000\n",
            "Epoch 99/250\n",
            "22/22 [==============================] - 0s 6ms/step - loss: 0.0081 - accuracy: 1.0000 - val_loss: 3.8630e-05 - val_accuracy: 1.0000\n",
            "Epoch 100/250\n",
            "22/22 [==============================] - 0s 7ms/step - loss: 0.0160 - accuracy: 0.9906 - val_loss: 3.5919e-05 - val_accuracy: 1.0000\n",
            "Epoch 101/250\n",
            "22/22 [==============================] - 0s 6ms/step - loss: 0.0137 - accuracy: 1.0000 - val_loss: 3.4507e-05 - val_accuracy: 1.0000\n",
            "Epoch 102/250\n",
            "22/22 [==============================] - 0s 6ms/step - loss: 0.0053 - accuracy: 1.0000 - val_loss: 3.1907e-05 - val_accuracy: 1.0000\n",
            "Epoch 103/250\n",
            "22/22 [==============================] - 0s 7ms/step - loss: 0.0191 - accuracy: 0.9906 - val_loss: 3.5942e-05 - val_accuracy: 1.0000\n",
            "Epoch 104/250\n",
            "22/22 [==============================] - 0s 6ms/step - loss: 0.0145 - accuracy: 1.0000 - val_loss: 1.4158e-04 - val_accuracy: 1.0000\n",
            "Epoch 105/250\n",
            "22/22 [==============================] - 0s 7ms/step - loss: 0.0142 - accuracy: 1.0000 - val_loss: 1.0800e-04 - val_accuracy: 1.0000\n",
            "Epoch 106/250\n",
            "22/22 [==============================] - 0s 7ms/step - loss: 0.0027 - accuracy: 1.0000 - val_loss: 9.4325e-05 - val_accuracy: 1.0000\n",
            "Epoch 107/250\n",
            "22/22 [==============================] - 0s 6ms/step - loss: 0.0107 - accuracy: 1.0000 - val_loss: 7.9830e-05 - val_accuracy: 1.0000\n",
            "Epoch 108/250\n",
            "22/22 [==============================] - 0s 6ms/step - loss: 0.0086 - accuracy: 1.0000 - val_loss: 6.1916e-05 - val_accuracy: 1.0000\n",
            "Epoch 109/250\n",
            "22/22 [==============================] - 0s 6ms/step - loss: 0.0113 - accuracy: 1.0000 - val_loss: 4.7233e-05 - val_accuracy: 1.0000\n",
            "Epoch 110/250\n",
            "22/22 [==============================] - 0s 7ms/step - loss: 0.0110 - accuracy: 1.0000 - val_loss: 3.7963e-05 - val_accuracy: 1.0000\n",
            "Epoch 111/250\n",
            "22/22 [==============================] - 0s 6ms/step - loss: 0.0227 - accuracy: 1.0000 - val_loss: 3.3111e-05 - val_accuracy: 1.0000\n",
            "Epoch 112/250\n",
            "22/22 [==============================] - 0s 6ms/step - loss: 0.0155 - accuracy: 1.0000 - val_loss: 3.2380e-05 - val_accuracy: 1.0000\n",
            "Epoch 113/250\n",
            "22/22 [==============================] - 0s 6ms/step - loss: 0.0077 - accuracy: 1.0000 - val_loss: 2.9908e-05 - val_accuracy: 1.0000\n",
            "Epoch 114/250\n",
            "22/22 [==============================] - 0s 6ms/step - loss: 0.0108 - accuracy: 1.0000 - val_loss: 2.6042e-05 - val_accuracy: 1.0000\n",
            "Epoch 115/250\n",
            "22/22 [==============================] - 0s 6ms/step - loss: 0.0141 - accuracy: 0.9906 - val_loss: 2.4497e-05 - val_accuracy: 1.0000\n",
            "Epoch 116/250\n",
            "22/22 [==============================] - 0s 6ms/step - loss: 0.0150 - accuracy: 1.0000 - val_loss: 2.1652e-05 - val_accuracy: 1.0000\n",
            "Epoch 117/250\n",
            "22/22 [==============================] - 0s 6ms/step - loss: 0.0244 - accuracy: 1.0000 - val_loss: 2.1515e-05 - val_accuracy: 1.0000\n",
            "Epoch 118/250\n",
            "22/22 [==============================] - 0s 7ms/step - loss: 0.0096 - accuracy: 1.0000 - val_loss: 2.1122e-05 - val_accuracy: 1.0000\n",
            "Epoch 119/250\n",
            "22/22 [==============================] - 0s 7ms/step - loss: 0.0034 - accuracy: 1.0000 - val_loss: 2.0139e-05 - val_accuracy: 1.0000\n",
            "Epoch 120/250\n",
            "22/22 [==============================] - 0s 7ms/step - loss: 0.0111 - accuracy: 1.0000 - val_loss: 1.8407e-05 - val_accuracy: 1.0000\n",
            "Epoch 121/250\n",
            "22/22 [==============================] - 0s 6ms/step - loss: 0.0041 - accuracy: 1.0000 - val_loss: 1.8699e-05 - val_accuracy: 1.0000\n",
            "Epoch 122/250\n",
            "22/22 [==============================] - 0s 6ms/step - loss: 0.0046 - accuracy: 1.0000 - val_loss: 1.8468e-05 - val_accuracy: 1.0000\n",
            "Epoch 123/250\n",
            "22/22 [==============================] - 0s 7ms/step - loss: 0.0028 - accuracy: 1.0000 - val_loss: 1.7890e-05 - val_accuracy: 1.0000\n",
            "Epoch 124/250\n",
            "22/22 [==============================] - 0s 7ms/step - loss: 0.0104 - accuracy: 1.0000 - val_loss: 1.7040e-05 - val_accuracy: 1.0000\n",
            "Epoch 125/250\n",
            "22/22 [==============================] - 0s 7ms/step - loss: 0.0257 - accuracy: 0.9906 - val_loss: 1.6327e-05 - val_accuracy: 1.0000\n",
            "Epoch 126/250\n",
            "22/22 [==============================] - 0s 8ms/step - loss: 0.0062 - accuracy: 1.0000 - val_loss: 1.5897e-05 - val_accuracy: 1.0000\n",
            "Epoch 127/250\n",
            "22/22 [==============================] - 0s 7ms/step - loss: 0.0031 - accuracy: 1.0000 - val_loss: 1.5245e-05 - val_accuracy: 1.0000\n",
            "Epoch 128/250\n",
            "22/22 [==============================] - 0s 6ms/step - loss: 0.0170 - accuracy: 0.9906 - val_loss: 1.9450e-05 - val_accuracy: 1.0000\n",
            "Epoch 129/250\n",
            "22/22 [==============================] - 0s 7ms/step - loss: 0.0213 - accuracy: 0.9906 - val_loss: 3.8619e-05 - val_accuracy: 1.0000\n",
            "Epoch 130/250\n",
            "22/22 [==============================] - 0s 7ms/step - loss: 0.0075 - accuracy: 1.0000 - val_loss: 2.8977e-05 - val_accuracy: 1.0000\n",
            "Epoch 131/250\n",
            "22/22 [==============================] - 0s 6ms/step - loss: 0.0134 - accuracy: 1.0000 - val_loss: 2.0527e-05 - val_accuracy: 1.0000\n",
            "Epoch 132/250\n",
            "22/22 [==============================] - 0s 7ms/step - loss: 0.0078 - accuracy: 1.0000 - val_loss: 1.7739e-05 - val_accuracy: 1.0000\n",
            "Epoch 133/250\n",
            "22/22 [==============================] - 0s 7ms/step - loss: 0.0152 - accuracy: 1.0000 - val_loss: 1.4786e-05 - val_accuracy: 1.0000\n",
            "Epoch 134/250\n",
            "22/22 [==============================] - 0s 7ms/step - loss: 0.0214 - accuracy: 0.9906 - val_loss: 1.7568e-05 - val_accuracy: 1.0000\n",
            "Epoch 135/250\n",
            "22/22 [==============================] - 0s 6ms/step - loss: 0.0080 - accuracy: 1.0000 - val_loss: 1.6158e-05 - val_accuracy: 1.0000\n",
            "Epoch 136/250\n",
            "22/22 [==============================] - 0s 6ms/step - loss: 0.0046 - accuracy: 1.0000 - val_loss: 1.6309e-05 - val_accuracy: 1.0000\n",
            "Epoch 137/250\n",
            "22/22 [==============================] - 0s 7ms/step - loss: 0.0145 - accuracy: 1.0000 - val_loss: 1.7525e-05 - val_accuracy: 1.0000\n",
            "Epoch 138/250\n",
            "22/22 [==============================] - 0s 6ms/step - loss: 0.0145 - accuracy: 1.0000 - val_loss: 1.7611e-05 - val_accuracy: 1.0000\n",
            "Epoch 139/250\n",
            "22/22 [==============================] - 0s 6ms/step - loss: 0.0091 - accuracy: 1.0000 - val_loss: 1.6147e-05 - val_accuracy: 1.0000\n",
            "Epoch 140/250\n",
            "22/22 [==============================] - 0s 6ms/step - loss: 0.0193 - accuracy: 0.9811 - val_loss: 2.0359e-05 - val_accuracy: 1.0000\n",
            "Epoch 141/250\n",
            "22/22 [==============================] - 0s 7ms/step - loss: 0.0029 - accuracy: 1.0000 - val_loss: 2.0028e-05 - val_accuracy: 1.0000\n",
            "Epoch 142/250\n",
            "22/22 [==============================] - 0s 6ms/step - loss: 0.0021 - accuracy: 1.0000 - val_loss: 1.8542e-05 - val_accuracy: 1.0000\n",
            "Epoch 143/250\n",
            "22/22 [==============================] - 0s 6ms/step - loss: 0.0314 - accuracy: 0.9811 - val_loss: 1.8097e-05 - val_accuracy: 1.0000\n",
            "Epoch 144/250\n",
            "22/22 [==============================] - 0s 6ms/step - loss: 0.0065 - accuracy: 1.0000 - val_loss: 1.5740e-05 - val_accuracy: 1.0000\n",
            "Epoch 145/250\n",
            "22/22 [==============================] - 0s 6ms/step - loss: 0.0019 - accuracy: 1.0000 - val_loss: 1.4921e-05 - val_accuracy: 1.0000\n",
            "Epoch 146/250\n",
            "22/22 [==============================] - 0s 6ms/step - loss: 0.0073 - accuracy: 1.0000 - val_loss: 1.5117e-05 - val_accuracy: 1.0000\n",
            "Epoch 147/250\n",
            "22/22 [==============================] - 0s 7ms/step - loss: 0.0261 - accuracy: 0.9906 - val_loss: 2.2951e-05 - val_accuracy: 1.0000\n",
            "Epoch 148/250\n",
            "22/22 [==============================] - 0s 6ms/step - loss: 0.0118 - accuracy: 1.0000 - val_loss: 2.1400e-05 - val_accuracy: 1.0000\n",
            "Epoch 149/250\n",
            "22/22 [==============================] - 0s 7ms/step - loss: 0.0154 - accuracy: 0.9906 - val_loss: 1.9873e-05 - val_accuracy: 1.0000\n",
            "Epoch 150/250\n",
            "22/22 [==============================] - 0s 7ms/step - loss: 0.0175 - accuracy: 0.9906 - val_loss: 1.9999e-05 - val_accuracy: 1.0000\n",
            "Epoch 151/250\n",
            "22/22 [==============================] - 0s 6ms/step - loss: 0.0054 - accuracy: 1.0000 - val_loss: 1.9154e-05 - val_accuracy: 1.0000\n",
            "Epoch 152/250\n",
            "22/22 [==============================] - 0s 7ms/step - loss: 0.0060 - accuracy: 1.0000 - val_loss: 1.8771e-05 - val_accuracy: 1.0000\n",
            "Epoch 153/250\n",
            "22/22 [==============================] - 0s 6ms/step - loss: 0.0071 - accuracy: 1.0000 - val_loss: 1.7728e-05 - val_accuracy: 1.0000\n",
            "Epoch 154/250\n",
            "22/22 [==============================] - 0s 7ms/step - loss: 0.0041 - accuracy: 1.0000 - val_loss: 1.6120e-05 - val_accuracy: 1.0000\n",
            "Epoch 155/250\n",
            "22/22 [==============================] - 0s 6ms/step - loss: 0.0051 - accuracy: 1.0000 - val_loss: 1.4901e-05 - val_accuracy: 1.0000\n",
            "Epoch 156/250\n",
            "22/22 [==============================] - 0s 6ms/step - loss: 0.0094 - accuracy: 1.0000 - val_loss: 1.3787e-05 - val_accuracy: 1.0000\n",
            "Epoch 157/250\n",
            "22/22 [==============================] - 0s 6ms/step - loss: 0.0046 - accuracy: 1.0000 - val_loss: 1.2701e-05 - val_accuracy: 1.0000\n",
            "Epoch 158/250\n",
            "22/22 [==============================] - 0s 6ms/step - loss: 0.0055 - accuracy: 1.0000 - val_loss: 1.2816e-05 - val_accuracy: 1.0000\n",
            "Epoch 159/250\n",
            "22/22 [==============================] - 0s 6ms/step - loss: 0.0033 - accuracy: 1.0000 - val_loss: 1.2316e-05 - val_accuracy: 1.0000\n",
            "Epoch 160/250\n",
            "22/22 [==============================] - 0s 7ms/step - loss: 0.0100 - accuracy: 0.9906 - val_loss: 1.2069e-05 - val_accuracy: 1.0000\n",
            "Epoch 161/250\n",
            "22/22 [==============================] - 0s 6ms/step - loss: 0.0067 - accuracy: 1.0000 - val_loss: 1.2625e-05 - val_accuracy: 1.0000\n",
            "Epoch 162/250\n",
            "22/22 [==============================] - 0s 6ms/step - loss: 0.0131 - accuracy: 1.0000 - val_loss: 1.1453e-05 - val_accuracy: 1.0000\n",
            "Epoch 163/250\n",
            "22/22 [==============================] - 0s 7ms/step - loss: 0.0054 - accuracy: 1.0000 - val_loss: 1.0711e-05 - val_accuracy: 1.0000\n",
            "Epoch 164/250\n",
            "22/22 [==============================] - 0s 6ms/step - loss: 0.0037 - accuracy: 1.0000 - val_loss: 1.0187e-05 - val_accuracy: 1.0000\n",
            "Epoch 165/250\n",
            "22/22 [==============================] - 0s 7ms/step - loss: 0.0080 - accuracy: 1.0000 - val_loss: 9.1564e-06 - val_accuracy: 1.0000\n",
            "Epoch 166/250\n",
            "22/22 [==============================] - 0s 8ms/step - loss: 0.0046 - accuracy: 1.0000 - val_loss: 8.4480e-06 - val_accuracy: 1.0000\n",
            "Epoch 167/250\n",
            "22/22 [==============================] - 0s 6ms/step - loss: 0.0101 - accuracy: 1.0000 - val_loss: 7.9824e-06 - val_accuracy: 1.0000\n",
            "Epoch 168/250\n",
            "22/22 [==============================] - 0s 6ms/step - loss: 0.0074 - accuracy: 1.0000 - val_loss: 7.7372e-06 - val_accuracy: 1.0000\n",
            "Epoch 169/250\n",
            "22/22 [==============================] - 0s 7ms/step - loss: 0.0013 - accuracy: 1.0000 - val_loss: 7.5505e-06 - val_accuracy: 1.0000\n",
            "Epoch 170/250\n",
            "22/22 [==============================] - 0s 7ms/step - loss: 0.0196 - accuracy: 0.9906 - val_loss: 7.3661e-06 - val_accuracy: 1.0000\n",
            "Epoch 171/250\n",
            "22/22 [==============================] - 0s 7ms/step - loss: 0.0040 - accuracy: 1.0000 - val_loss: 6.9275e-06 - val_accuracy: 1.0000\n",
            "Epoch 172/250\n",
            "22/22 [==============================] - 0s 7ms/step - loss: 0.0292 - accuracy: 0.9906 - val_loss: 6.9815e-06 - val_accuracy: 1.0000\n",
            "Epoch 173/250\n",
            "22/22 [==============================] - 0s 7ms/step - loss: 0.0255 - accuracy: 0.9811 - val_loss: 7.1209e-06 - val_accuracy: 1.0000\n",
            "Epoch 174/250\n",
            "22/22 [==============================] - 0s 6ms/step - loss: 0.0091 - accuracy: 1.0000 - val_loss: 6.9005e-06 - val_accuracy: 1.0000\n",
            "Epoch 175/250\n",
            "22/22 [==============================] - 0s 7ms/step - loss: 0.0020 - accuracy: 1.0000 - val_loss: 6.5249e-06 - val_accuracy: 1.0000\n",
            "Epoch 176/250\n",
            "22/22 [==============================] - 0s 6ms/step - loss: 0.0029 - accuracy: 1.0000 - val_loss: 6.2190e-06 - val_accuracy: 1.0000\n",
            "Epoch 177/250\n",
            "22/22 [==============================] - 0s 6ms/step - loss: 0.0014 - accuracy: 1.0000 - val_loss: 5.9356e-06 - val_accuracy: 1.0000\n",
            "Epoch 178/250\n",
            "22/22 [==============================] - 0s 6ms/step - loss: 0.0057 - accuracy: 1.0000 - val_loss: 5.5713e-06 - val_accuracy: 1.0000\n",
            "Epoch 179/250\n",
            "22/22 [==============================] - 0s 6ms/step - loss: 0.0114 - accuracy: 1.0000 - val_loss: 5.3936e-06 - val_accuracy: 1.0000\n",
            "Epoch 180/250\n",
            "22/22 [==============================] - 0s 7ms/step - loss: 0.0099 - accuracy: 1.0000 - val_loss: 6.1381e-06 - val_accuracy: 1.0000\n",
            "Epoch 181/250\n",
            "22/22 [==============================] - 0s 6ms/step - loss: 0.0128 - accuracy: 1.0000 - val_loss: 5.6747e-06 - val_accuracy: 1.0000\n",
            "Epoch 182/250\n",
            "22/22 [==============================] - 0s 6ms/step - loss: 0.0078 - accuracy: 1.0000 - val_loss: 6.0345e-06 - val_accuracy: 1.0000\n",
            "Epoch 183/250\n",
            "22/22 [==============================] - 0s 6ms/step - loss: 0.0041 - accuracy: 1.0000 - val_loss: 5.9603e-06 - val_accuracy: 1.0000\n",
            "Epoch 184/250\n",
            "22/22 [==============================] - 0s 6ms/step - loss: 0.0012 - accuracy: 1.0000 - val_loss: 5.6702e-06 - val_accuracy: 1.0000\n",
            "Epoch 185/250\n",
            "22/22 [==============================] - 0s 6ms/step - loss: 0.0101 - accuracy: 1.0000 - val_loss: 5.4205e-06 - val_accuracy: 1.0000\n",
            "Epoch 186/250\n",
            "22/22 [==============================] - 0s 7ms/step - loss: 0.0098 - accuracy: 1.0000 - val_loss: 5.0584e-06 - val_accuracy: 1.0000\n",
            "Epoch 187/250\n",
            "22/22 [==============================] - 0s 7ms/step - loss: 0.0021 - accuracy: 1.0000 - val_loss: 4.7683e-06 - val_accuracy: 1.0000\n",
            "Epoch 188/250\n",
            "22/22 [==============================] - 0s 7ms/step - loss: 0.0030 - accuracy: 1.0000 - val_loss: 4.5029e-06 - val_accuracy: 1.0000\n",
            "Epoch 189/250\n",
            "22/22 [==============================] - 0s 6ms/step - loss: 9.3823e-04 - accuracy: 1.0000 - val_loss: 4.3567e-06 - val_accuracy: 1.0000\n",
            "Epoch 190/250\n",
            "22/22 [==============================] - 0s 6ms/step - loss: 0.0027 - accuracy: 1.0000 - val_loss: 4.1925e-06 - val_accuracy: 1.0000\n",
            "Epoch 191/250\n",
            "22/22 [==============================] - 0s 6ms/step - loss: 0.0021 - accuracy: 1.0000 - val_loss: 4.0755e-06 - val_accuracy: 1.0000\n",
            "Epoch 192/250\n",
            "22/22 [==============================] - 0s 7ms/step - loss: 0.0027 - accuracy: 1.0000 - val_loss: 3.9946e-06 - val_accuracy: 1.0000\n",
            "Epoch 193/250\n",
            "22/22 [==============================] - 0s 7ms/step - loss: 0.0036 - accuracy: 1.0000 - val_loss: 3.9136e-06 - val_accuracy: 1.0000\n",
            "Epoch 194/250\n",
            "22/22 [==============================] - 0s 7ms/step - loss: 0.0069 - accuracy: 1.0000 - val_loss: 3.9249e-06 - val_accuracy: 1.0000\n",
            "Epoch 195/250\n",
            "22/22 [==============================] - 0s 7ms/step - loss: 0.0015 - accuracy: 1.0000 - val_loss: 3.8056e-06 - val_accuracy: 1.0000\n",
            "Epoch 196/250\n",
            "22/22 [==============================] - 0s 8ms/step - loss: 0.0021 - accuracy: 1.0000 - val_loss: 3.7337e-06 - val_accuracy: 1.0000\n",
            "Epoch 197/250\n",
            "22/22 [==============================] - 0s 7ms/step - loss: 0.0031 - accuracy: 1.0000 - val_loss: 3.6932e-06 - val_accuracy: 1.0000\n",
            "Epoch 198/250\n",
            "22/22 [==============================] - 0s 6ms/step - loss: 0.0031 - accuracy: 1.0000 - val_loss: 3.6190e-06 - val_accuracy: 1.0000\n",
            "Epoch 199/250\n",
            "22/22 [==============================] - 0s 7ms/step - loss: 0.0082 - accuracy: 1.0000 - val_loss: 3.7944e-06 - val_accuracy: 1.0000\n",
            "Epoch 200/250\n",
            "22/22 [==============================] - 0s 7ms/step - loss: 0.0015 - accuracy: 1.0000 - val_loss: 3.7539e-06 - val_accuracy: 1.0000\n",
            "Epoch 201/250\n",
            "22/22 [==============================] - 0s 6ms/step - loss: 0.0066 - accuracy: 1.0000 - val_loss: 3.7494e-06 - val_accuracy: 1.0000\n",
            "Epoch 202/250\n",
            "22/22 [==============================] - 0s 7ms/step - loss: 0.0083 - accuracy: 1.0000 - val_loss: 3.7022e-06 - val_accuracy: 1.0000\n",
            "Epoch 203/250\n",
            "22/22 [==============================] - 0s 7ms/step - loss: 0.0030 - accuracy: 1.0000 - val_loss: 3.5132e-06 - val_accuracy: 1.0000\n",
            "Epoch 204/250\n",
            "22/22 [==============================] - 0s 7ms/step - loss: 0.0149 - accuracy: 0.9906 - val_loss: 3.6257e-06 - val_accuracy: 1.0000\n",
            "Epoch 205/250\n",
            "22/22 [==============================] - 0s 7ms/step - loss: 0.0052 - accuracy: 1.0000 - val_loss: 3.8911e-06 - val_accuracy: 1.0000\n",
            "Epoch 206/250\n",
            "22/22 [==============================] - 0s 7ms/step - loss: 0.0046 - accuracy: 1.0000 - val_loss: 3.8641e-06 - val_accuracy: 1.0000\n",
            "Epoch 207/250\n",
            "22/22 [==============================] - 0s 7ms/step - loss: 0.0074 - accuracy: 1.0000 - val_loss: 3.6505e-06 - val_accuracy: 1.0000\n",
            "Epoch 208/250\n",
            "22/22 [==============================] - 0s 6ms/step - loss: 0.0037 - accuracy: 1.0000 - val_loss: 3.4953e-06 - val_accuracy: 1.0000\n",
            "Epoch 209/250\n",
            "22/22 [==============================] - 0s 6ms/step - loss: 0.0033 - accuracy: 1.0000 - val_loss: 3.3626e-06 - val_accuracy: 1.0000\n",
            "Epoch 210/250\n",
            "22/22 [==============================] - 0s 6ms/step - loss: 0.0057 - accuracy: 1.0000 - val_loss: 3.4795e-06 - val_accuracy: 1.0000\n",
            "Epoch 211/250\n",
            "22/22 [==============================] - 0s 7ms/step - loss: 0.0012 - accuracy: 1.0000 - val_loss: 3.6190e-06 - val_accuracy: 1.0000\n",
            "Epoch 212/250\n",
            "22/22 [==============================] - 0s 6ms/step - loss: 0.0045 - accuracy: 1.0000 - val_loss: 3.6910e-06 - val_accuracy: 1.0000\n",
            "Epoch 213/250\n",
            "22/22 [==============================] - 0s 6ms/step - loss: 0.0020 - accuracy: 1.0000 - val_loss: 3.6235e-06 - val_accuracy: 1.0000\n",
            "Epoch 214/250\n",
            "22/22 [==============================] - 0s 7ms/step - loss: 0.0036 - accuracy: 1.0000 - val_loss: 3.4638e-06 - val_accuracy: 1.0000\n",
            "Epoch 215/250\n",
            "22/22 [==============================] - 0s 7ms/step - loss: 0.0065 - accuracy: 1.0000 - val_loss: 3.3333e-06 - val_accuracy: 1.0000\n",
            "Epoch 216/250\n",
            "22/22 [==============================] - 0s 6ms/step - loss: 0.0060 - accuracy: 1.0000 - val_loss: 3.2861e-06 - val_accuracy: 1.0000\n",
            "Epoch 217/250\n",
            "22/22 [==============================] - 0s 6ms/step - loss: 0.0063 - accuracy: 1.0000 - val_loss: 3.0657e-06 - val_accuracy: 1.0000\n",
            "Epoch 218/250\n",
            "22/22 [==============================] - 0s 7ms/step - loss: 0.0056 - accuracy: 1.0000 - val_loss: 2.8610e-06 - val_accuracy: 1.0000\n",
            "Epoch 219/250\n",
            "22/22 [==============================] - 0s 7ms/step - loss: 0.0224 - accuracy: 0.9906 - val_loss: 2.7530e-06 - val_accuracy: 1.0000\n",
            "Epoch 220/250\n",
            "22/22 [==============================] - 0s 6ms/step - loss: 0.0022 - accuracy: 1.0000 - val_loss: 2.6293e-06 - val_accuracy: 1.0000\n",
            "Epoch 221/250\n",
            "22/22 [==============================] - 0s 6ms/step - loss: 0.0024 - accuracy: 1.0000 - val_loss: 2.5236e-06 - val_accuracy: 1.0000\n",
            "Epoch 222/250\n",
            "22/22 [==============================] - 0s 6ms/step - loss: 0.0248 - accuracy: 0.9906 - val_loss: 2.7305e-06 - val_accuracy: 1.0000\n",
            "Epoch 223/250\n",
            "22/22 [==============================] - 0s 6ms/step - loss: 0.0084 - accuracy: 1.0000 - val_loss: 3.1534e-06 - val_accuracy: 1.0000\n",
            "Epoch 224/250\n",
            "22/22 [==============================] - 0s 6ms/step - loss: 0.0219 - accuracy: 0.9906 - val_loss: 3.4278e-06 - val_accuracy: 1.0000\n",
            "Epoch 225/250\n",
            "22/22 [==============================] - 0s 6ms/step - loss: 0.0059 - accuracy: 1.0000 - val_loss: 3.9226e-06 - val_accuracy: 1.0000\n",
            "Epoch 226/250\n",
            "22/22 [==============================] - 0s 7ms/step - loss: 0.0121 - accuracy: 0.9906 - val_loss: 3.7404e-06 - val_accuracy: 1.0000\n",
            "Epoch 227/250\n",
            "22/22 [==============================] - 0s 7ms/step - loss: 0.0053 - accuracy: 1.0000 - val_loss: 3.6032e-06 - val_accuracy: 1.0000\n",
            "Epoch 228/250\n",
            "22/22 [==============================] - 0s 7ms/step - loss: 0.0050 - accuracy: 1.0000 - val_loss: 3.3828e-06 - val_accuracy: 1.0000\n",
            "Epoch 229/250\n",
            "22/22 [==============================] - 0s 6ms/step - loss: 0.0032 - accuracy: 1.0000 - val_loss: 3.2501e-06 - val_accuracy: 1.0000\n",
            "Epoch 230/250\n",
            "22/22 [==============================] - 0s 8ms/step - loss: 0.0056 - accuracy: 1.0000 - val_loss: 3.1017e-06 - val_accuracy: 1.0000\n",
            "Epoch 231/250\n",
            "22/22 [==============================] - 0s 6ms/step - loss: 0.0012 - accuracy: 1.0000 - val_loss: 3.0252e-06 - val_accuracy: 1.0000\n",
            "Epoch 232/250\n",
            "22/22 [==============================] - 0s 8ms/step - loss: 0.0028 - accuracy: 1.0000 - val_loss: 2.8025e-06 - val_accuracy: 1.0000\n",
            "Epoch 233/250\n",
            "22/22 [==============================] - 0s 6ms/step - loss: 0.0228 - accuracy: 0.9906 - val_loss: 3.0229e-06 - val_accuracy: 1.0000\n",
            "Epoch 234/250\n",
            "22/22 [==============================] - 0s 6ms/step - loss: 0.0065 - accuracy: 1.0000 - val_loss: 3.3985e-06 - val_accuracy: 1.0000\n",
            "Epoch 235/250\n",
            "22/22 [==============================] - 0s 7ms/step - loss: 0.0025 - accuracy: 1.0000 - val_loss: 3.2006e-06 - val_accuracy: 1.0000\n",
            "Epoch 236/250\n",
            "22/22 [==============================] - 0s 7ms/step - loss: 0.0141 - accuracy: 0.9906 - val_loss: 3.1376e-06 - val_accuracy: 1.0000\n",
            "Epoch 237/250\n",
            "22/22 [==============================] - 0s 6ms/step - loss: 0.0091 - accuracy: 1.0000 - val_loss: 3.0094e-06 - val_accuracy: 1.0000\n",
            "Epoch 238/250\n",
            "22/22 [==============================] - 0s 6ms/step - loss: 0.0092 - accuracy: 1.0000 - val_loss: 2.7485e-06 - val_accuracy: 1.0000\n",
            "Epoch 239/250\n",
            "22/22 [==============================] - 0s 6ms/step - loss: 0.0020 - accuracy: 1.0000 - val_loss: 2.5956e-06 - val_accuracy: 1.0000\n",
            "Epoch 240/250\n",
            "22/22 [==============================] - 0s 6ms/step - loss: 0.0041 - accuracy: 1.0000 - val_loss: 2.4224e-06 - val_accuracy: 1.0000\n",
            "Epoch 241/250\n",
            "22/22 [==============================] - 0s 6ms/step - loss: 0.0015 - accuracy: 1.0000 - val_loss: 2.3189e-06 - val_accuracy: 1.0000\n",
            "Epoch 242/250\n",
            "22/22 [==============================] - 0s 7ms/step - loss: 0.0019 - accuracy: 1.0000 - val_loss: 2.2087e-06 - val_accuracy: 1.0000\n",
            "Epoch 243/250\n",
            "22/22 [==============================] - 0s 6ms/step - loss: 0.0100 - accuracy: 1.0000 - val_loss: 2.2785e-06 - val_accuracy: 1.0000\n",
            "Epoch 244/250\n",
            "22/22 [==============================] - 0s 6ms/step - loss: 0.0016 - accuracy: 1.0000 - val_loss: 2.2987e-06 - val_accuracy: 1.0000\n",
            "Epoch 245/250\n",
            "22/22 [==============================] - 0s 7ms/step - loss: 0.0109 - accuracy: 0.9906 - val_loss: 2.1165e-06 - val_accuracy: 1.0000\n",
            "Epoch 246/250\n",
            "22/22 [==============================] - 0s 6ms/step - loss: 0.0066 - accuracy: 1.0000 - val_loss: 1.8938e-06 - val_accuracy: 1.0000\n",
            "Epoch 247/250\n",
            "22/22 [==============================] - 0s 6ms/step - loss: 0.0085 - accuracy: 1.0000 - val_loss: 1.8286e-06 - val_accuracy: 1.0000\n",
            "Epoch 248/250\n",
            "22/22 [==============================] - 0s 6ms/step - loss: 0.0045 - accuracy: 1.0000 - val_loss: 1.7746e-06 - val_accuracy: 1.0000\n",
            "Epoch 249/250\n",
            "22/22 [==============================] - 0s 6ms/step - loss: 0.0031 - accuracy: 1.0000 - val_loss: 1.7431e-06 - val_accuracy: 1.0000\n",
            "Epoch 250/250\n",
            "22/22 [==============================] - 0s 6ms/step - loss: 0.0059 - accuracy: 1.0000 - val_loss: 1.7746e-06 - val_accuracy: 1.0000\n"
          ]
        }
      ]
    },
    {
      "cell_type": "code",
      "source": [
        "pd.DataFrame(history.history).plot()"
      ],
      "metadata": {
        "colab": {
          "base_uri": "https://localhost:8080/",
          "height": 283
        },
        "id": "iTThiyJZkBQ0",
        "outputId": "f192baa7-8f62-47f2-948c-e9673a03edb3"
      },
      "execution_count": null,
      "outputs": [
        {
          "output_type": "execute_result",
          "data": {
            "text/plain": [
              "<matplotlib.axes._subplots.AxesSubplot at 0x7f33136a77d0>"
            ]
          },
          "metadata": {},
          "execution_count": 118
        },
        {
          "output_type": "display_data",
          "data": {
            "text/plain": [
              "<Figure size 432x288 with 1 Axes>"
            ],
            "image/png": "[encoded data removed]"
          },
          "metadata": {
            "needs_background": "light"
          }
        }
      ]
    },
    {
      "cell_type": "code",
      "source": [
        "model.save('chatbot_model.h5', history)\n",
        "print(\"model created\")"
      ],
      "metadata": {
        "colab": {
          "base_uri": "https://localhost:8080/"
        },
        "id": "MquKy3tpkDnL",
        "outputId": "94994e94-9461-47f0-f5c8-58c584f2c8ad"
      },
      "execution_count": null,
      "outputs": [
        {
          "output_type": "stream",
          "name": "stdout",
          "text": [
            "model created\n"
          ]
        }
      ]
    },
    {
      "cell_type": "code",
      "source": [],
      "metadata": {
        "id": "9oGipDDkk9dK"
      },
      "execution_count": null,
      "outputs": []
    }
  ]
}